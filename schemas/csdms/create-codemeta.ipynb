{
 "cells": [
  {
   "cell_type": "markdown",
   "id": "2bc1be56-57f0-4268-9582-14ab1053fac4",
   "metadata": {},
   "source": [
    "# Create CSDMS Code-Meta Files\n",
    "\n",
    "The purpose of this notebook is to create code-meta json files for content described in the CSDMS model registry. These code-meta representations will serve as input to the FAIR evaluation framework.\n",
    "\n",
    "This notebooks uses data collected via the following url structure:\n",
    "\n",
    "`https://csdms.colorado.edu/csdms_wiki/index.php?title=Special:Browse&offset=0&dir=out&article=Model%3ATOPMODEL&group=hide&format=json`"
   ]
  },
  {
   "cell_type": "code",
   "execution_count": 45,
   "id": "51932d25-1fa2-44a7-a452-e3fb6732f374",
   "metadata": {},
   "outputs": [],
   "source": [
    "import json\n",
    "import pprint\n",
    "from datetime import date\n",
    "\n",
    "from pydantic.v1 import HttpUrl\n",
    "from pydantic2_schemaorg.Person import Person\n",
    "from pydantic2_schemaorg.Organization import Organization\n",
    "from pydantic2_schemaorg.CreativeWork import CreativeWork\n",
    "from codemeticulous.codemeta.models import CodeMetaV3, VersionedLanguage\n"
   ]
  },
  {
   "cell_type": "code",
   "execution_count": 4,
   "id": "eea8eb36-1564-486e-89f1-11b8beb91d5a",
   "metadata": {},
   "outputs": [],
   "source": [
    "# load some data\n",
    "with open('raw_model_metadata/TOPMODEL.json', 'r') as f:\n",
    "    dat = json.loads(f.read())    "
   ]
  },
  {
   "cell_type": "markdown",
   "id": "31d7b448-cb48-48fc-be2a-a3430661b39b",
   "metadata": {},
   "source": [
    "Squash all properties so it's easier to access the data\n",
    "\n",
    "All properties within the 'data' list are structure as:\n",
    "\n",
    "```\n",
    "{'property': <Property Name>, 'dataitem': [{'type': <Type>, 'item': <Value>}]}\n",
    "\n",
    "for example:\n",
    "\n",
    "{'property': 'City', 'dataitem': [{'type': 2, 'item': 'Lancaster'}]}\n",
    "```"
   ]
  },
  {
   "cell_type": "code",
   "execution_count": 5,
   "id": "94926ab6-5a56-4728-a2de-25dad3e57e76",
   "metadata": {},
   "outputs": [],
   "source": [
    "properties = {}\n",
    "for prop in dat['data']:\n",
    "    items = [p['item'].strip() for p in prop['dataitem']]\n",
    "    if len(items) == 1:\n",
    "        items = items[0]\n",
    "    properties[prop['property']] = items"
   ]
  },
  {
   "cell_type": "markdown",
   "id": "599f9548-6ddb-42a7-bf36-8a33591202ba",
   "metadata": {},
   "source": []
  },
  {
   "cell_type": "code",
   "execution_count": 6,
   "id": "ee8e69c5-0138-4f1d-9377-8585a7d3079d",
   "metadata": {},
   "outputs": [],
   "source": [
    "#pprint.pprint(properties, indent=4)"
   ]
  },
  {
   "cell_type": "markdown",
   "id": "a7a4a6cf-1349-426d-bc67-92113ac758d9",
   "metadata": {},
   "source": [
    "Create Pydantic Representation of \"Core\" metadata. These are metadata that fit into the SchemaOrg CreativeWork class."
   ]
  },
  {
   "cell_type": "code",
   "execution_count": 7,
   "id": "52aecb7e-abd2-4eb7-89cd-93d87f993617",
   "metadata": {},
   "outputs": [],
   "source": [
    "creator = Person(\n",
    "    givenName= properties['First_name'] ,\n",
    "    familyName = properties['Last_name'],\n",
    "    email = properties['Email_address'],\n",
    "    affiliation = Organization(\n",
    "        address = f'{properties[\"City\"]}, {properties[\"Country\"]}',\n",
    "        name = properties['Institute']\n",
    "    )\n",
    ")\n",
    "\n",
    "date_created = date(int(properties['Start_year_development']),1,1)\n",
    "\n",
    "# Keywords combine: ModelDomain, Modelautophrases, and Model_keywords\n",
    "keywords = properties['ModelDomain'] + properties['Modelautophrases'] + properties['Model_keywords']"
   ]
  },
  {
   "cell_type": "markdown",
   "id": "0bcd0a38-1870-44f9-85ec-0a3aef0a8a03",
   "metadata": {},
   "source": [
    "Creating Pydantic representation of Code-Meta fields. These are defined by Leslie Hsu in https://github.com/codemeta/codemeta/blob/d464a2891206a55c1146b4dd6b996b8fa733ceb1/crosswalks/csdms.csv. In the future, this will be replaced with the crosswalk that Irene is developing."
   ]
  },
  {
   "cell_type": "code",
   "execution_count": 51,
   "id": "7e1cf006-ffa7-47b3-b8ba-e3f59faf4109",
   "metadata": {},
   "outputs": [],
   "source": [
    "# core fields\n",
    "codeRepository = HttpUrl(scheme=properties['Source_web_address'].split(':')[0], url=properties['Source_web_address'])\n",
    "\n",
    "plang = properties['Programming_language'] if isinstance(properties['Programming_language'], list) else [properties['Programming_language']]\n",
    "plang_other = properties['Program_language_other'] if isinstance(properties['Program_language_other'], list) else [properties['Program_language_other']]\n",
    "programmingLanguage = [VersionedLanguage(name=lang) for lang in (plang + plang_other)]\n",
    "applicationCategory = properties['Model_type']\n",
    "memoryRequirements = properties['Memory_requirements']\n",
    "\n",
    "dateModified = None\n",
    "if 'End_year_model_development' in properties:\n",
    "    dateModified = date(properties['End_year_model_development'], 1, 1)\n",
    "\n",
    "supported_platforms = properties['Supported_platforms'] if isinstance(properties['Supported_platforms'], list) else [properties['Supported_platforms']]\n",
    "supported_platforms_other = []\n",
    "if 'Supported_platforms_other' in properties: # not sure if this is use, but it's in Leslie's crosswalk\n",
    "    supported_platforms_other = properties['Supported_platforms_other'] if isinstance(properties['Supported_platforms_other'], list) else [properties['Supported_platforms_other']]\n",
    "operatingSystem = [platform for platform in (supported_platforms + supported_platforms_other)]\n",
    "\n",
    "# TODO: The way we extract license needs to be improved.\n",
    "#license = CreativeWork(name=properties['Program_license_type'])\n",
    "\n",
    "#provider\n",
    "#ispartof\n",
    "#identifier\n",
    "#sameas\n",
    "url = HttpUrl(scheme=properties['Source_web_address'].split(':')[0], url=properties['Source_web_address'])\n",
    "\n",
    "\n",
    "\n",
    "# --- code-meta fields ---\n",
    "\n",
    "\n",
    "# hasSourceCode: Optional[SoftwareListOrSingle]\n",
    "# isSourceCodeOf: Optional[\n",
    "#     list[SoftwareApplication | str | AnyUrl] | SoftwareApplication | str | AnyUrl\n",
    "# ]\n",
    "# softwareSuggestions: Optional[SoftwareListOrSingle]\n",
    "# maintainer: Optional[ActorListOrSingle]\n",
    "# contIntegration: Optional[list[AnyUrl] | AnyUrl]\n",
    "# continuousIntegration: Optional[list[AnyUrl] | AnyUrl]\n",
    "# buildInstructions: Optional[list[AnyUrl] | AnyUrl]\n",
    "# developmentStatus: Optional[str]\n",
    "# embargoDate: Optional[date | datetime]\n",
    "# embargoEndDate: Optional[date | datetime]\n",
    "# funding: Optional[list[str] | str]\n",
    "# issueTracker: Optional[list[AnyUrl] | AnyUrl]\n",
    "# referencePublication: Optional[\n",
    "#     list[ScholarlyArticle | str | AnyUrl] | ScholarlyArticle | str | AnyUrl\n",
    "# ]\n",
    "# readme: Optional[list[AnyUrl] | AnyUrl]"
   ]
  },
  {
   "cell_type": "code",
   "execution_count": 52,
   "id": "d890b8ac-8a7d-46c2-afcd-9046ae00aaa0",
   "metadata": {},
   "outputs": [
    {
     "name": "stdout",
     "output_type": "stream",
     "text": [
      "{\n",
      "    \"@context\": \"https://w3id.org/codemeta/3.0\",\n",
      "    \"@type\": \"SoftwareSourceCode\",\n",
      "    \"name\": \"TOPMODEL\",\n",
      "    \"codeRepository\": \"https://cran.r-project.org/package=topmodel\",\n",
      "    \"programmingLanguage\": [\n",
      "        {\n",
      "            \"@type\": \"ComputerLanguage\",\n",
      "            \"name\": \"Fortran77\"\n",
      "        },\n",
      "        {\n",
      "            \"@type\": \"ComputerLanguage\",\n",
      "            \"name\": \"Visual Basic\"\n",
      "        }\n",
      "    ],\n",
      "    \"applicationCategory\": \"Modular\",\n",
      "    \"memoryRequirements\": \"--\",\n",
      "    \"operatingSystem\": [\n",
      "        \"Windows\"\n",
      "    ],\n",
      "    \"author\": {\n",
      "        \"@type\": \"Person\",\n",
      "        \"givenName\": \"Keith\",\n",
      "        \"familyName\": \"Beven\",\n",
      "        \"affiliation\": {\n",
      "            \"@type\": \"Organization\",\n",
      "            \"name\": \"Lancaster University, Department of Environmental Science, Institute of Environmental and Natural Sciences\",\n",
      "            \"address\": \"Lancaster, United Kingdom\"\n",
      "        },\n",
      "        \"email\": \"mailto:K.Beven@lancaster.ac.uk\"\n",
      "    },\n",
      "    \"dateCreated\": \"1974-01-01\",\n",
      "    \"keywords\": [\n",
      "        \"Terrestrial\",\n",
      "        \"Hydrology\",\n",
      "        \"physically\",\n",
      "        \"based\",\n",
      "        \"distributed\",\n",
      "        \"watershed\",\n",
      "        \"infiltration-excess overland flow\",\n",
      "        \"saturation overland flow\",\n",
      "        \"distributed watershed model\",\n",
      "        \"overland flow\",\n",
      "        \"simulates hydrologic fluxes\",\n",
      "        \"subsurface flow\",\n",
      "        \"physically based\",\n",
      "        \"channel routing\",\n",
      "        \"distributed watershed\",\n",
      "        \"infiltration-excess overland\",\n",
      "        \"saturation overland\",\n",
      "        \"produce saturation overland\",\n",
      "        \"hydrologic fluxes\",\n",
      "        \"flow\",\n",
      "        \"model simulates explicit\",\n",
      "        \"basin\",\n",
      "        \"hydrological\",\n",
      "        \"topmodel\",\n",
      "        \"basin\",\n",
      "        \"hydrological\"\n",
      "    ],\n",
      "    \"description\": \"TOPMODEL is a physically based, distributed watershed model that simulates hydrologic fluxes of water (infiltration-excess overland flow, saturation overland flow, infiltration, exfiltration, subsurface flow, evapotranspiration, and channel routing) through a watershed. The model simulates explicit groundwater/surface water interactions by predicting the movement of the water table, which determines where saturated land-surface areas develop and have the potential to produce saturation overland flow.\",\n",
      "    \"url\": \"https://cran.r-project.org/package=topmodel\"\n",
      "}\n"
     ]
    }
   ],
   "source": [
    "meta = CodeMetaV3(\n",
    "    name = dat['subject'][0:-7],\n",
    "    dateCreated = date_created,\n",
    "    creator=creator,\n",
    "    description=properties['Extended_model_description'],\n",
    "    keywords=keywords,\n",
    "    codeRepository=codeRepository,\n",
    "    programmingLanguage = programmingLanguage,\n",
    "    applicationCategory = applicationCategory,\n",
    "    memoryRequirements = memoryRequirements,\n",
    "    dateModified = dateModified,\n",
    "    operatingSystem = operatingSystem,\n",
    "    url = url,\n",
    ")\n",
    "\n",
    "print(json.dumps(json.loads(meta.json()), indent=4))"
   ]
  }
 ],
 "metadata": {
  "kernelspec": {
   "display_name": "Python 3 (ipykernel)",
   "language": "python",
   "name": "python3"
  },
  "language_info": {
   "codemirror_mode": {
    "name": "ipython",
    "version": 3
   },
   "file_extension": ".py",
   "mimetype": "text/x-python",
   "name": "python",
   "nbconvert_exporter": "python",
   "pygments_lexer": "ipython3",
   "version": "3.10.10"
  }
 },
 "nbformat": 4,
 "nbformat_minor": 5
}
