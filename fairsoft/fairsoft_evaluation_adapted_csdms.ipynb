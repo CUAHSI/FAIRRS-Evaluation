{
 "cells": [
  {
   "cell_type": "markdown",
   "metadata": {},
   "source": [
    "### Implementation of [FAIRsoft evaluation tool](https://openebench.bsc.es/observatory/Evaluation/) on CSDMS model repository.\n",
    "\n",
    "This notebook provides an example adaptation of the FAIRsoft evaluation workflow using the Observatory API and a custom GitHub metadata extraction routine to evaluate the FAIRsoft scores of GitHub-based research software in the [CSDMS model repository](https://csdms.colorado.edu/wiki/Model_download_portal)."
   ]
  },
  {
   "cell_type": "code",
   "execution_count": 1,
   "metadata": {},
   "outputs": [],
   "source": [
    "# import Python libraries\n",
    "import pandas as pd\n",
    "import seaborn as sns\n",
    "import matplotlib.pyplot as plt\n",
    "# import libary to handle making API requests\n",
    "from src import observatory_api_client\n",
    "# import library for custom metadata extraction and CSDMS repository querying\n",
    "from src import custom_scripts"
   ]
  },
  {
   "cell_type": "markdown",
   "metadata": {},
   "source": [
    "The CSDMS research software objects and their associated metadata can be imported via the [CSDMS API](https://csdms.colorado.edu/wiki/Querying_the_CSDMS_model_repository):"
   ]
  },
  {
   "cell_type": "code",
   "execution_count": 2,
   "metadata": {},
   "outputs": [
    {
     "name": "stdout",
     "output_type": "stream",
     "text": [
      "                                     ModelName  ModelDomain  \\\n",
      "0                            1D Hillslope MCMC  Terrestrial   \n",
      "1  1D Particle-Based Hillslope Evolution Model      Coastal   \n",
      "2                  1DBreachingTurbidityCurrent      Coastal   \n",
      "3                                    2DFLOWVEL      Coastal   \n",
      "4                                       ACADIA       Marine   \n",
      "\n",
      "                                   SourceWebAddress    SourceCodeAvailability  \\\n",
      "0                                                    Through CSDMS repository   \n",
      "1                                                    Through CSDMS repository   \n",
      "2                                                    Through CSDMS repository   \n",
      "3                                                    Through CSDMS repository   \n",
      "4  http://www-nml.dartmouth.edu/Software/acadia5.0/    Through web repository   \n",
      "\n",
      "  CodeReviewed ProgrammingLanguage                DOIModel  \\\n",
      "0            1                 C++                           \n",
      "1            1              Matlab  10.5281/zenodo.1436771   \n",
      "2            1                                               \n",
      "3            1           Fortran77     10.1594/IEDA/100076   \n",
      "4            1           Fortran77                           \n",
      "\n",
      "                                             FullUrl  \n",
      "0  https://csdms.colorado.edu/wiki/Model:1D_Hills...  \n",
      "1  https://csdms.colorado.edu/wiki/Model:1D_Parti...  \n",
      "2  https://csdms.colorado.edu/wiki/Model:1DBreach...  \n",
      "3    https://csdms.colorado.edu/wiki/Model:2DFLOWVEL  \n",
      "4       https://csdms.colorado.edu/wiki/Model:ACADIA  \n"
     ]
    }
   ],
   "source": [
    "# retrieve dataframe of csdsms model metadata\n",
    "df_csdms = custom_scripts.query_csdms_repository()\n",
    "print(df_csdms.head())\n",
    "# this can be stored in log folder\n",
    "df_csdms.to_csv(\"log/csdms_models.csv\",index=False)"
   ]
  },
  {
   "cell_type": "markdown",
   "metadata": {},
   "source": [
    "We can now filter the GitHub-based CSDMS research software objects through a regex search of the `Source Web Address` field:"
   ]
  },
  {
   "cell_type": "code",
   "execution_count": 3,
   "metadata": {},
   "outputs": [
    {
     "name": "stdout",
     "output_type": "stream",
     "text": [
      "                                   ModelName  ModelDomain  \\\n",
      "7                                   ALFRESCO   Cryosphere   \n",
      "8                              AR2-sinuosity    Hydrology   \n",
      "9   ATS (The Advanced Terrestrial Simulator)   Cryosphere   \n",
      "13                                    AeoLiS  Terrestrial   \n",
      "21                                AlluvStrat      Coastal   \n",
      "\n",
      "                              SourceWebAddress    SourceCodeAvailability  \\\n",
      "7          https://github.com/ua-snap/alfresco    Through web repository   \n",
      "8     https://github.com/alimaye/AR2-sinuosity    Through web repository   \n",
      "9                https://github.com/amanzi/ats    Through web repository   \n",
      "13  https://github.com/openearth/aeolis-python    Through web repository   \n",
      "21      https://github.com/awickert/alluvstrat  Through CSDMS repository   \n",
      "\n",
      "   CodeReviewed ProgrammingLanguage             DOIModel  \\\n",
      "7             1                 C++                        \n",
      "8             1              Matlab                        \n",
      "9             1                 C++                        \n",
      "13            1              Python                        \n",
      "21            1              Python  10.1594/IEDA/100088   \n",
      "\n",
      "                                              FullUrl  \n",
      "7      https://csdms.colorado.edu/wiki/Model:ALFRESCO  \n",
      "8   https://csdms.colorado.edu/wiki/Model:AR2-sinu...  \n",
      "9   https://csdms.colorado.edu/wiki/Model:ATS_(The...  \n",
      "13       https://csdms.colorado.edu/wiki/Model:AeoLiS  \n",
      "21   https://csdms.colorado.edu/wiki/Model:AlluvStrat  \n"
     ]
    }
   ],
   "source": [
    "df_csdms_github = df_csdms[df_csdms.SourceWebAddress.str.contains('github')]\n",
    "print(df_csdms_github.head())\n",
    "# this can be stored in log folder\n",
    "df_csdms_github.to_csv(\"log/csdms_models_github.csv\",index=False)"
   ]
  },
  {
   "cell_type": "markdown",
   "metadata": {},
   "source": [
    "The GitHub repository URLs can be input into the FAIRsoft evaluation workflow and the results can be added to the model metadata dataframe:"
   ]
  },
  {
   "cell_type": "code",
   "execution_count": 4,
   "metadata": {},
   "outputs": [
    {
     "name": "stdout",
     "output_type": "stream",
     "text": [
      "Evaluated https://github.com/ua-snap/alfresco\n",
      "Evaluated https://github.com/alimaye/AR2-sinuosity\n",
      "Evaluated https://github.com/amanzi/ats\n",
      "Evaluated https://github.com/openearth/aeolis-python\n",
      "HTTP error occurred: 400 Client Error: Bad Request for url: https://observatory.openebench.bsc.es/api/fair/evaluate\n",
      "Failed to evaluate https://github.com/awickert/alluvstrat\n",
      "Evaluated https://github.com/mperignon/anugaSed\n",
      "Evaluated https://github.com/APSIMInitiative/ApsimX\n",
      "Evaluated https://github.com/csdms-contrib/Auto_marsh\n",
      "Evaluated https://github.com/mcflugen/sedflux\n",
      "Evaluated https://github.com/cmshobe/brake-model\n",
      "Failed to evaluate http://github.com/badlands-model\n",
      "Evaluated https://github.com/csdms-contrib/Barrier_Inlet_Environment_BRIE_Model\n",
      "Evaluated https://github.com/UNC-CECL/Barrier3D\n",
      "Evaluated https://github.com/UNC-CECL/BarrierBMFT\n",
      "Evaluated https://github.com/mcflugen/sedflux\n",
      "Evaluated https://github.com/mcflugen/sedflux\n",
      "Evaluated https://github.com/cmshobe/BlockLab\n",
      "HTTP error occurred: 400 Client Error: Bad Request for url: https://observatory.openebench.bsc.es/api/fair/evaluate\n",
      "Failed to evaluate https://github.com/childmodel/child\n",
      "Evaluated https://github.com/CICE-Consortium/CICE\n",
      "Failed to evaluate https://github.com/permamodel\n",
      "Evaluated https://github.com/DOI-USGS/COAWST\n",
      "Evaluated https://github.com/mbbarksdale/CoLT_Restorations\n",
      "Evaluated https://github.com/iiasa/CWatM\n",
      "Failed to evaluate https://github.com/landlab/landlab/tree/master/landlab\n",
      "Failed to evaluate https://github.com/landlab/landlab/tree/master/landlab\n",
      "Evaluated https://github.com/Delta-function/cliffs-src\n",
      "HTTP error occurred: 400 Client Error: Bad Request for url: https://observatory.openebench.bsc.es/api/fair/evaluate\n",
      "Failed to evaluate https://github.com/UNC-CECL/CASCADE\n",
      "Evaluated https://github.com/csdms-contrib/CoastMorpho2D\n",
      "Evaluated https://github.com/mcflugen/sedflux\n",
      "Evaluated https://github.com/CryoGrid/CryoGrid3\n",
      "Evaluated https://github.com/smbeselly/DFMFON\n",
      "Evaluated https://github.com/pnnl/DHSVM-PNNL\n",
      "Evaluated https://github.com/csdms/dakota\n",
      "Evaluated https://github.com/gantian127/bmi_dbseabed\n",
      "Evaluated https://github.com/JGCRI/demeter\n",
      "Failed to evaluate https://github.com/landlab/landlab/tree/master/landlab/components/overland_flow\n",
      "Failed to evaluate https://github.com/landlab/landlab/tree/master/landlab/components/depth_dependent_diffusion\n",
      "Failed to evaluate https://github.com/landlab/landlab/tree/master/landlab\n",
      "Failed to evaluate https://github.com/landlab/landlab/tree/master/landlab\n",
      "Evaluated https://github.com/mcflugen/sedflux\n",
      "Evaluated https://github.com/passaH2O/dorado\n",
      "Failed to evaluate https://github.com/landlab/landlab/tree/master/landlab/components/drainage_density\n",
      "Evaluated https://github.com/tan2/DynEarthSol\n",
      "HTTP error occurred: 400 Client Error: Bad Request for url: https://observatory.openebench.bsc.es/api/fair/evaluate\n",
      "Failed to evaluate https://github.com/UU-Hydro/DYNQUAL\n",
      "Evaluated https://github.com/permamodel/Snow_BMI_Fortran\n",
      "HTTP error occurred: 400 Client Error: Bad Request for url: https://observatory.openebench.bsc.es/api/fair/evaluate\n",
      "Failed to evaluate https://github.com/HyDROSLab/EF5\n",
      "Failed to evaluate https://github.com/Geodels/eSCAPE\n",
      "Evaluated https://github.com/vipenrica/Channel-geometry\n",
      "Failed to evaluate https://github.com/landlab/landlab/tree/master/landlab/components/erosion_deposition\n",
      "Failed to evaluate https://github.com/JasperLeuven/EstuarineMorphologyEstimator/\n",
      "Failed to evaluate https://github.com/landlab/landlab/tree/master/landlab\n",
      "Evaluated https://github.com/FVCOM-GitHub/fvcom\n",
      "Failed to evaluate https://github.com/landlab/landlab/tree/master/landlab\n",
      "Failed to evaluate https://github.com/landlab/landlab/tree/master/landlab\n",
      "Failed to evaluate https://github.com/landlab/landlab/tree/master/landlab\n",
      "Failed to evaluate https://github.com/landlab/landlab/tree/master/landlab\n",
      "Failed to evaluate https://github.com/landlab/landlab/tree/master/landlab\n",
      "Failed to evaluate https://github.com/landlab/landlab/tree/master/landlab\n",
      "Failed to evaluate https://github.com/landlab/landlab/tree/master/landlab\n",
      "Failed to evaluate https://github.com/landlab/landlab/tree/master/landlab\n",
      "Failed to evaluate https://github.com/landlab/landlab/tree/master/landlab\n",
      "Failed to evaluate https://github.com/permamodel\n",
      "Failed to evaluate http://geotopmodel.github.io/geotop/\n",
      "Evaluated https://github.com/awickert/gFlex\n",
      "Evaluated https://github.com/Elchin/GIPL\n",
      "Evaluated https://github.com/awickert/GRLP\n",
      "HTTP error occurred: 400 Client Error: Bad Request for url: https://observatory.openebench.bsc.es/api/fair/evaluate\n",
      "Failed to evaluate https://github.com/UMN-Hydro/GSFLOW-GRASS\n",
      "Evaluated https://github.com/KYANJO/GeoFlood\n",
      "Evaluated https://github.com/csdms/bmi-geotiff\n",
      "Evaluated https://github.com/Geodels/gospl\n",
      "Evaluated https://github.com/gregtucker/grain_hills\n",
      "Failed to evaluate https://github.com/nhm-usgs/gridmet_bmi\n",
      "https://github.com/pymt-lab/pymt_gridmet/\n",
      "HTTP error occurred: 400 Client Error: Bad Request for url: https://observatory.openebench.bsc.es/api/fair/evaluate\n",
      "Failed to evaluate https://github.com/landlab/landlab\n",
      "Evaluated https://github.com/johnrobertcraven/hbv_hydromodel\n",
      "Failed to evaluate https://github.com/landlab/landlab/tree/master/landlab\n",
      "Evaluated https://github.com/changliao1025/pyhexwatershed\n",
      "Failed to evaluate https://github.com/Glader011235/Hogback/\n",
      "Evaluated https://github.com/philip928lin/HydroCNHS\n",
      "Failed to evaluate https://github.com/MNiMORPH/hydroRaVENS/\n",
      "HTTP error occurred: 400 Client Error: Bad Request for url: https://observatory.openebench.bsc.es/api/fair/evaluate\n",
      "Failed to evaluate https://github.com/kettner/hydrotrend\n",
      "HTTP error occurred: 400 Client Error: Bad Request for url: https://observatory.openebench.bsc.es/api/fair/evaluate\n",
      "Failed to evaluate https://github.com/josephguillaume/hydromad\n",
      "Evaluated https://github.com/GuodingChen/iHydroSlide3D_v1.0\n",
      "Evaluated https://github.com/rubisco-sfa/ILAMB\n",
      "Failed to evaluate https://github.com/awickert/IceFlow/archive/master.zip\n",
      "Evaluated https://github.com/icepack/icepack\n",
      "Evaluated https://github.com/laurenguido/IncrementalDerisFlowVolumeAnalyzer\n",
      "Evaluated https://github.com/mcflugen/sedflux\n",
      "Evaluated https://github.com/jouvetg/igm\n",
      "Evaluated https://github.com/UP-RS-ESP/DEM-KZP\n",
      "Failed to evaluate https://github.com/permamodel\n",
      "Evaluated https://github.com/ddoubleprime/LEMming2\n",
      "Evaluated https://github.com/ec-jrc/lisflood-code\n",
      "Failed to evaluate https://github.com/landlab/landlab/tree/master/landlab\n",
      "Failed to evaluate https://github.com/landlab/landlab/\n",
      "Failed to evaluate https://github.com/landlab/landlab/tree/master/landlab\n",
      "Failed to evaluate https://github.com/landlab/landlab/tree/master/landlab\n",
      "Failed to evaluate https://landlab.github.io\n",
      "Failed to evaluate https://github.com/landlab/landlab/tree/master/landlab\n",
      "Failed to evaluate https://github.com/landlab/landlab/tree/master/landlab\n",
      "Evaluated https://github.com/nathandbrown/LuSS\n",
      "Evaluated https://github.com/NOAA-GFDL/MOM6\n",
      "Evaluated https://github.com/FluidMechanicsUNIPD/Meander_Floodplain_Heterogeneity\n",
      "Evaluated https://github.com/zsylvester/meanderpy\n",
      "Evaluated https://github.com/jamesorr/mocsy\n",
      "Evaluated https://github.com/IMMM-SFA/mosartwmpy\n",
      "HTTP error occurred: 400 Client Error: Bad Request for url: https://observatory.openebench.bsc.es/api/fair/evaluate\n",
      "Failed to evaluate https://github.com/awickert/nexrad-extract\n",
      "Evaluated https://github.com/gantian127/bmi_nwis\n",
      "Evaluated https://github.com/gantian127/nwm\n",
      "Failed to evaluate https://github.com/landlab/landlab/tree/master/landlab\n",
      "HTTP error occurred: 400 Client Error: Bad Request for url: https://observatory.openebench.bsc.es/api/fair/evaluate\n",
      "Failed to evaluate https://github.com/OGGM/oggm\n",
      "Evaluated https://github.com/MNiMORPH/OTTAR\n",
      "HTTP error occurred: 400 Client Error: Bad Request for url: https://observatory.openebench.bsc.es/api/fair/evaluate\n",
      "Failed to evaluate https://github.com/CliMA/Oceananigans.jl\n",
      "Evaluated https://github.com/phicau/olaFlow\n",
      "Evaluated https://github.com/openamundsen/openamundsen\n",
      "Failed to evaluate https://github.com/landlab/landlab/tree/master/landlab/components/overland_flow\n",
      "Failed to evaluate https://github.com/landlab/landlab/tree/master/landlab\n",
      "HTTP error occurred: 400 Client Error: Bad Request for url: https://observatory.openebench.bsc.es/api/fair/evaluate\n",
      "Failed to evaluate https://github.com/UU-Hydro/PCR-GLOBWB_model\n",
      "Evaluated https://github.com/pism/pism\n",
      "Evaluated https://github.com/permamodel/pbs\n",
      "Failed to evaluate https://github.com/landlab/landlab/tree/master/landlab\n",
      "Evaluated https://github.com/mcflugen/sedflux\n",
      "Failed to evaluate https://github.com/landlab/landlab/tree/master/landlab\n",
      "Failed to evaluate https://github.com/landlab/landlab/tree/master/landlab\n",
      "Failed to evaluate https://github.com/landlab/landlab/tree/master/landlab\n",
      "Evaluated https://github.com/iganache/PyDeCe\n",
      "Evaluated https://github.com/mperignon/pyDeltaRCM_WMT\n",
      "Evaluated https://github.com/ZhiLiHydro/pyRiverBed\n",
      "Evaluated https://github.com/szwiep/py_SBeLT\n",
      "Evaluated https://github.com/katmratliff/avulsion-bmi\n",
      "Evaluated https://github.com/gantian127/pymt_roms\n",
      "HTTP error occurred: 400 Client Error: Bad Request for url: https://observatory.openebench.bsc.es/api/fair/evaluate\n",
      "Failed to evaluate https://github.com/VeinsOfTheEarth/rabpro\n",
      "Failed to evaluate https://github.com/landlab/landlab/tree/master/landlab\n",
      "Evaluated https://github.com/kellykochanski/rescal-snow\n",
      "HTTP error occurred: 400 Client Error: Bad Request for url: https://observatory.openebench.bsc.es/api/fair/evaluate\n",
      "Failed to evaluate https://github.com/swd-turner/reservoir\n",
      "Evaluated https://github.com/VeinsOfTheEarth/RivGraph\n",
      "Evaluated https://github.com/rodlammers/REM\n",
      "Evaluated https://github.com/permamodel/River-temp-python\n",
      "Evaluated https://github.com/WarrenPinnacle/SLAMM6.7\n",
      "HTTP error occurred: 400 Client Error: Bad Request for url: https://observatory.openebench.bsc.es/api/fair/evaluate\n",
      "Failed to evaluate https://github.com/landlab/landlab\n",
      "Evaluated https://github.com/mcflugen/sedflux\n",
      "Evaluated https://github.com/jacobhirschberg/SedCas\n",
      "Failed to evaluate https://github.com/landlab/landlab/tree/master/landlab\n",
      "Evaluated https://github.com/mcflugen/sedflux\n",
      "Evaluated https://github.com/jaolive/SiStER\n",
      "Failed to evaluate https://github.com/landlab/landlab/tree/master/landlab\n",
      "Evaluated https://github.com/gantian127/soilgrids\n",
      "Failed to evaluate https://github.com/landlab/landlab/blob/master/landlab/components/soil_moisture/infiltrate_soil_green_ampt.py\n",
      "Failed to evaluate https://github.com/landlab/landlab/tree/master/landlab\n",
      "Failed to evaluate https://github.com/landlab/landlab/tree/master/landlab\n",
      "Failed to evaluate https://github.com/landlab/landlab/tree/master/landlab\n",
      "Failed to evaluate https://github.com/landlab/landlab/tree/master/landlab\n",
      "Failed to evaluate https://github.com/landlab/landlab/tree/master/landlab\n",
      "Failed to evaluate https://streamprofilerapp.github.io/\n",
      "Evaluated https://github.com/mcflugen/sedflux\n",
      "Evaluated https://github.com/alimaye/sun-fan-delta-model\n",
      "Evaluated https://github.com/danigeos/tao-geo\n",
      "Evaluated https://github.com/tribshms/tRIBS\n",
      "Failed to evaluate https://github.com/landlab/landlab/tree/master/landlab\n",
      "Evaluated https://github.com/TerrainBento/terrainbento\n",
      "Evaluated https://github.com/awickert/terrapin\n",
      "Evaluated https://github.com/peckhams/topoflow\n",
      "Evaluated https://github.com/peckhams/topoflow\n",
      "Evaluated https://github.com/peckhams/topoflow\n",
      "Evaluated https://github.com/peckhams/topoflow\n",
      "Evaluated https://github.com/peckhams/topoflow\n",
      "Evaluated https://github.com/peckhams/topoflow\n",
      "Evaluated https://github.com/peckhams/topoflow\n",
      "Evaluated https://github.com/peckhams/topoflow\n",
      "Evaluated https://github.com/peckhams/topoflow\n",
      "Evaluated https://github.com/peckhams/topoflow\n",
      "Evaluated https://github.com/peckhams/topoflow\n",
      "Evaluated https://github.com/peckhams/topoflow\n",
      "Evaluated https://github.com/peckhams/topoflow\n",
      "Evaluated https://github.com/peckhams/topoflow\n",
      "Evaluated https://github.com/peckhams/topoflow\n",
      "Evaluated https://github.com/peckhams/topoflow\n",
      "Evaluated https://github.com/ArcticSnow/TopoPyScale\n",
      "Evaluated https://github.com/csdms/bmi-topography\n",
      "Evaluated https://github.com/vipenrica/tracer-stone-modeling\n",
      "Failed to evaluate https://github.com/landlab/landlab/tree/master/landlab\n",
      "Evaluated https://github.com/vinhngoctran/UIDS\n",
      "Evaluated https://github.com/underworldcode/underworld2\n",
      "Failed to evaluate https://github.com/landlab/landlab/tree/master/landlab\n",
      "Failed to evaluate https://github.com/landlab/landlab/tree/master/landlab\n",
      "HTTP error occurred: 400 Client Error: Bad Request for url: https://observatory.openebench.bsc.es/api/fair/evaluate\n",
      "Failed to evaluate https://github.com/csdms/bmi-wavewatch3\n",
      "Evaluated https://github.com/RJArthern/WAVI.jl\n",
      "Failed to evaluate https://github.com/bmfekete/WBMplus\n",
      "Evaluated https://github.com/tbarchyn/WDUNE\n",
      "Failed to evaluate https://github.com/ajwdewit/WOFOST\n",
      "https://github.com/ajwdewit/pcse\n",
      "https://www.swap.alterra.nl/\n",
      "HTTP error occurred: 400 Client Error: Bad Request for url: https://observatory.openebench.bsc.es/api/fair/evaluate\n",
      "Failed to evaluate https://github.com/ImperialCollegeLondon/wsi\n",
      "Failed to evaluate https://github.com/KCallaghan/WTM/\n",
      "Failed to evaluate https://github.com/landlab/landlab/tree/master/landlab\n",
      "Failed to evaluate https://github.com/landlab/landlab/tree/master/landlab\n"
     ]
    }
   ],
   "source": [
    "# define all indicators to report in export: overall, high level and low level\n",
    "# overall indicators\n",
    "indicators = ['F',\n",
    "              'A',\n",
    "              'I',\n",
    "              'R'\n",
    "              ]\n",
    "# high level indicators\n",
    "indicators_high = ['F1','F2','F3',\n",
    "                   'A1','A3', # A2 not measured\n",
    "                   'I1','I2','I3',\n",
    "                   'R1','R2','R3','R4'\n",
    "                   ]\n",
    "# low level indicators\n",
    "indicators_low = ['F1_1','F1_2','F2_1','F2_2','F3_1','F3_2','F3_3', \n",
    "                  'A1_2','A1_3','A1_3','A1_4','A1_5','A3_2','A3_3','A3_4','A3_5', # A2_1, A2_2, A3_1 not measured\n",
    "                  'I1_1','I1_3','I1_4','I2_1','I2_2','I3_1','I3_2','I3_3', # I1_2, I1_5 not measured\n",
    "                  'R1_1','R2_1','R3_2','R4_1' # R1_2, R2_2, R3_1, R4_2 not measured\n",
    "                  ]\n",
    "# concatenate all the indicators\n",
    "indicators_all = indicators + indicators_high + indicators_low\n",
    "\n",
    "# create copy of df_csdms_github to store results\n",
    "df_csdms_github_results = df_csdms_github.copy()\n",
    "\n",
    "# create counter for number of evaluations\n",
    "eval_counter = 0\n",
    "\n",
    "for index, row in df_csdms_github.iterrows():\n",
    "    try:\n",
    "        # the GitHub repository URL can be input into the routine for metadata extraction and mapping to the observatory metadata schema\n",
    "        metadata = custom_scripts.get_repository_metadata(row.SourceWebAddress)\n",
    "        # run evaluator and retrieve scores\n",
    "        fairsoft_scores,_ = observatory_api_client.get_fairsoft_scores_and_evaluation(metadata)\n",
    "        print('Evaluated %s' % row.SourceWebAddress)\n",
    "        # add to counter for number of evaluations\n",
    "        eval_counter += 1 \n",
    "        # store scores in dataframe\n",
    "        for indicator in indicators_all:\n",
    "            df_csdms_github_results.at[index,indicator] = fairsoft_scores[indicator]\n",
    "    except Exception as e:\n",
    "        # leave scoring fields empty when there is an error in evaluation process\n",
    "        print('Failed to evaluate %s' % row.SourceWebAddress)\n",
    "\n",
    "# save evaluation results to file under /out\n",
    "df_csdms_github_results.to_csv('out/fairsoft_results_csdms_models_github.csv',index=False)"
   ]
  },
  {
   "cell_type": "markdown",
   "metadata": {},
   "source": [
    "**NOTE:** for interpretation of the FAIRsoft indicator scores, see the photo below (and FAIRsoft indicator documentation [here](https://inab.github.io/FAIRsoft_indicators/)):\n",
    "\n",
    "![Image of FAIRsoft indicators](images/fairsoft_indicators.png)"
   ]
  },
  {
   "cell_type": "markdown",
   "metadata": {},
   "source": [
    "We can now summarize the results of the FAIRsoft evaluation. First, we can report the number of models successfully evaluated."
   ]
  },
  {
   "cell_type": "code",
   "execution_count": 5,
   "metadata": {},
   "outputs": [
    {
     "name": "stdout",
     "output_type": "stream",
     "text": [
      "The FAIRsoft tool evaluated 112 of 193 models (58.0%)\n"
     ]
    }
   ],
   "source": [
    "print('The FAIRsoft tool evaluated %i of %i models (%.1f%%)' % (eval_counter,df_csdms_github_results.shape[0],100*(eval_counter/df_csdms_github_results.shape[0])))"
   ]
  },
  {
   "cell_type": "markdown",
   "metadata": {},
   "source": [
    "Next, we can show a distribution of results for each of the primary indicators: Findability (F), Accessibility (A), Interoperability (I) and Resusability (R)."
   ]
  },
  {
   "cell_type": "code",
   "execution_count": 6,
   "metadata": {},
   "outputs": [
    {
     "data": {
      "image/png": "[encoded data removed]",
      "text/plain": [
       "<Figure size 640x480 with 4 Axes>"
      ]
     },
     "metadata": {},
     "output_type": "display_data"
    }
   ],
   "source": [
    "fig, axes = plt.subplots(2, 2)\n",
    "axes = axes.flatten()\n",
    "\n",
    "for ax, indicator in zip(axes, indicators):\n",
    "    sns.kdeplot(data=df_csdms_github_results, x=indicator, ax=ax, warn_singular=False)\n",
    "    ax.set_title(f'{indicator} scores')\n",
    "    ax.set_xlabel('Scores')\n",
    "    ax.set_xlim(0, 1)\n",
    "\n",
    "plt.tight_layout()\n",
    "plt.show()"
   ]
  },
  {
   "cell_type": "markdown",
   "metadata": {},
   "source": [
    "Lastly, we can report out the pass/fail results of the low level indicators (e.g. F1.2) for further inspection."
   ]
  },
  {
   "cell_type": "code",
   "execution_count": 7,
   "metadata": {
    "scrolled": true
   },
   "outputs": [
    {
     "name": "stdout",
     "output_type": "stream",
     "text": [
      "F1_1: 112 models passed out of 112 evaluated (100.0%)\n",
      "F1_2: 0 models passed out of 112 evaluated (0.0%)\n",
      "F2_1: 112 models passed out of 112 evaluated (100.0%)\n",
      "F2_2: 0 models passed out of 112 evaluated (0.0%)\n",
      "F3_1: 0 models passed out of 112 evaluated (0.0%)\n",
      "F3_2: 112 models passed out of 112 evaluated (100.0%)\n",
      "F3_3: 0 models passed out of 112 evaluated (0.0%)\n",
      "A1_2: 0 models passed out of 112 evaluated (0.0%)\n",
      "A1_3: 0 models passed out of 112 evaluated (0.0%)\n",
      "A1_3: 0 models passed out of 112 evaluated (0.0%)\n",
      "A1_4: 0 models passed out of 112 evaluated (0.0%)\n",
      "A1_5: 0 models passed out of 112 evaluated (0.0%)\n",
      "A3_2: 0 models passed out of 112 evaluated (0.0%)\n",
      "A3_3: 0 models passed out of 112 evaluated (0.0%)\n",
      "A3_4: 0 models passed out of 112 evaluated (0.0%)\n",
      "A3_5: 0 models passed out of 112 evaluated (0.0%)\n",
      "I1_1: 0 models passed out of 112 evaluated (0.0%)\n",
      "I1_3: 0 models passed out of 112 evaluated (0.0%)\n",
      "I1_4: 0 models passed out of 112 evaluated (0.0%)\n",
      "I2_1: 0 models passed out of 112 evaluated (0.0%)\n",
      "I2_2: 0 models passed out of 112 evaluated (0.0%)\n",
      "I3_1: 0 models passed out of 112 evaluated (0.0%)\n",
      "I3_2: 0 models passed out of 112 evaluated (0.0%)\n",
      "I3_3: 0 models passed out of 112 evaluated (0.0%)\n",
      "R1_1: 0 models passed out of 112 evaluated (0.0%)\n",
      "R2_1: 102 models passed out of 112 evaluated (91.1%)\n",
      "R3_2: 112 models passed out of 112 evaluated (100.0%)\n",
      "R4_1: 0 models passed out of 112 evaluated (0.0%)\n"
     ]
    }
   ],
   "source": [
    "for indicator in indicators_low:\n",
    "    # number of models that passed for given low level indicator\n",
    "    num_pass = df_csdms_github_results[df_csdms_github_results[indicator] == 1].shape[0]\n",
    "    # number of models that failed for given low level indicator\n",
    "    num_fail = df_csdms_github_results[df_csdms_github_results[indicator] == 0].shape[0]\n",
    "    # total number of models evaluated for given low level indicator, models not evaluated have blank entries\n",
    "    num_total = num_pass + num_fail\n",
    "    print('%s: %i models passed out of %i evaluated (%.1f%%)' % (indicator,num_pass,num_total,100*num_pass/num_total))"
   ]
  }
 ],
 "metadata": {
  "kernelspec": {
   "display_name": "Python 3 (ipykernel)",
   "language": "python",
   "name": "python3"
  },
  "language_info": {
   "codemirror_mode": {
    "name": "ipython",
    "version": 3
   },
   "file_extension": ".py",
   "mimetype": "text/x-python",
   "name": "python",
   "nbconvert_exporter": "python",
   "pygments_lexer": "ipython3",
   "version": "3.12.3"
  }
 },
 "nbformat": 4,
 "nbformat_minor": 4
}
