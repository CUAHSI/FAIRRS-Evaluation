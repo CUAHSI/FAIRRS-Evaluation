{
 "cells": [
  {
   "cell_type": "markdown",
   "metadata": {},
   "source": [
    "### Example adaptation of [FAIRsoft evaluation tool](https://openebench.bsc.es/observatory/Evaluation/) via custom GitHub metadata extraction and [Observatory API](https://observatory.openebench.bsc.es/api/docs).\n",
    "\n",
    "This notebook is intended to provide an example adaptation of the FAIRsoft evaluation workflow using the Observatory API and a custom GitHub metadta extraction routine. The intent with creating a custom process for metadata extraction is to remove the step of installing the [Metadata Extractor for FAIRsoft](https://github.com/settings/installations/54726444) GitHub App in the repository workspace."
   ]
  },
  {
   "cell_type": "code",
   "execution_count": 1,
   "metadata": {},
   "outputs": [],
   "source": [
    "# import libaries to handle making Observatory API requests\n",
    "import evaluation_client\n",
    "import jsonld_client\n",
    "import cff_client\n",
    "# import custom libary for extracting GitHub metadata and mapping to observatory metadata schema\n",
    "import get_repository_metadata"
   ]
  },
  {
   "cell_type": "markdown",
   "metadata": {},
   "source": [
    "The GitHub repository URL of the software is used as input to this workflow. "
   ]
  },
  {
   "cell_type": "code",
   "execution_count": 2,
   "metadata": {},
   "outputs": [],
   "source": [
    "github_url = 'https://github.com/abnerbog/hydroshare'"
   ]
  },
  {
   "cell_type": "markdown",
   "metadata": {},
   "source": [
    "The GitHub repository URL can be input into the routine for metadata extraction and mapping to the observatory metadata schema:"
   ]
  },
  {
   "cell_type": "code",
   "execution_count": 3,
   "metadata": {},
   "outputs": [],
   "source": [
    "metadata = get_repository_metadata.main(github_url)"
   ]
  },
  {
   "cell_type": "code",
   "execution_count": 4,
   "metadata": {},
   "outputs": [
    {
     "name": "stdout",
     "output_type": "stream",
     "text": [
      "{'name': 'hydroshare', 'label': ['hydroshare'], 'description': [{'term': 'HydroShare is a collaborative website for better access to data and models in the hydrologic sciences. ', 'id': 0}], 'links': [], 'webpage': [{'term': 'https://www.hydroshare.org', 'id': 0}], 'isDisabled': False, 'isEmpty': False, 'isLocked': False, 'isPrivate': False, 'isTemplate': False, 'license': [{'term': {'name': 'BSD 3-Clause \"New\" or \"Revised\" License', 'url': 'http://choosealicense.com/licenses/bsd-3-clause/'}, 'id': 0}], 'repository': [{'term': 'https://github.com/abnerbog/hydroshare', 'id': 0}], 'topics': [], 'operations': [], 'authors': [{'term': {'name': 'Devin Cowan', 'type': 'person', 'email': 'devincowan@users.noreply.github.com', 'maintainer': False}, 'id': 0}, {'term': {'name': 'Devin Cowan', 'type': 'person', 'email': 'dcowan@cuahsi.org', 'maintainer': False}, 'id': 1}, {'term': {'name': 'Scott Black', 'type': 'person', 'email': 'sblack@cuahsi.org', 'maintainer': False}, 'id': 2}], 'bioschemas': False, 'contribPolicy': [], 'dependencies': [], 'documentation': [], 'download': [], 'edam_operations': [], 'edam_topics': [], 'https': True, 'input': [], 'inst_instr': False, 'operational': False, 'os': [], 'output': [], 'publication': [], 'semantics': {'inputs': [], 'outputs': [], 'topics': [], 'operations': []}, 'source': ['github'], 'src': [], 'ssl': True, 'tags': [], 'test': [], 'type': ''}\n"
     ]
    }
   ],
   "source": [
    "print(metadata)"
   ]
  },
  {
   "cell_type": "markdown",
   "metadata": {},
   "source": [
    "We can now follow the same routine as outlined in the [FAIRsoft evaluation validation notebook](fairsoft_evaluation.ipynb) where the metadata is passed to the [/fair/evaluate](https://observatory.openebench.bsc.es/api/docs#/fair/evaluate_fair_evaluate_post) Observatory API endpoint to generate a JSON of FAIRsoft indicator scores and evaluation results (note [this documentation](https://inab.github.io/FAIRsoft_indicators/) contains detailed descriptions on each of the FAIRsoft indicators and scoring system):"
   ]
  },
  {
   "cell_type": "code",
   "execution_count": 5,
   "metadata": {},
   "outputs": [
    {
     "name": "stdout",
     "output_type": "stream",
     "text": [
      "HTTP error occurred: 503 Server Error: Service Unavailable for url: https://observatory.openebench.bsc.es/api/fair/evaluate\n"
     ]
    },
    {
     "ename": "TypeError",
     "evalue": "cannot unpack non-iterable NoneType object",
     "output_type": "error",
     "traceback": [
      "\u001b[1;31m---------------------------------------------------------------------------\u001b[0m",
      "\u001b[1;31mTypeError\u001b[0m                                 Traceback (most recent call last)",
      "Cell \u001b[1;32mIn[5], line 1\u001b[0m\n\u001b[1;32m----> 1\u001b[0m fairsoft_scores,fairsoft_evaluation \u001b[38;5;241m=\u001b[39m evaluation_client\u001b[38;5;241m.\u001b[39mget_fairsoft_scores_and_evaluation(metadata)\n",
      "\u001b[1;31mTypeError\u001b[0m: cannot unpack non-iterable NoneType object"
     ]
    }
   ],
   "source": [
    "fairsoft_scores,fairsoft_evaluation = evaluation_client.get_fairsoft_scores_and_evaluation(metadata)"
   ]
  },
  {
   "cell_type": "code",
   "execution_count": null,
   "metadata": {},
   "outputs": [],
   "source": [
    "print(fairsoft_scores)"
   ]
  },
  {
   "cell_type": "code",
   "execution_count": null,
   "metadata": {},
   "outputs": [],
   "source": [
    "print(fairsoft_evaluation)"
   ]
  },
  {
   "cell_type": "markdown",
   "metadata": {},
   "source": [
    "We can also pass the metadata to the [/tools/jsonld](https://observatory.openebench.bsc.es/api/docs#/tools/tool_jsonld_tools_jsonld_post) Observatory API endpoint to generate a haromnized Schema.org metadata in JSON-LD format for adding to the GitHub repository:"
   ]
  },
  {
   "cell_type": "code",
   "execution_count": null,
   "metadata": {},
   "outputs": [],
   "source": [
    "jsonld_metadata = jsonld_client.get_jsonld_metadata(metadata)"
   ]
  },
  {
   "cell_type": "code",
   "execution_count": null,
   "metadata": {},
   "outputs": [],
   "source": [
    "print(jsonld_metadata)"
   ]
  },
  {
   "cell_type": "markdown",
   "metadata": {},
   "source": [
    "Lastly, the original JSON metadata can also be passed to the [/tools/cff](https://observatory.openebench.bsc.es/api/docs#/tools/tool_cff_tools_cff_post) Observatory API endpoint to generate a citation string in CFF format for adding to the GitHub repository."
   ]
  },
  {
   "cell_type": "code",
   "execution_count": null,
   "metadata": {},
   "outputs": [],
   "source": [
    "cff_citation = cff_client.get_cff_citation(metadata)"
   ]
  },
  {
   "cell_type": "code",
   "execution_count": null,
   "metadata": {},
   "outputs": [],
   "source": [
    "print(cff_citation)"
   ]
  }
 ],
 "metadata": {
  "kernelspec": {
   "display_name": "Python 3 (ipykernel)",
   "language": "python",
   "name": "python3"
  },
  "language_info": {
   "codemirror_mode": {
    "name": "ipython",
    "version": 3
   },
   "file_extension": ".py",
   "mimetype": "text/x-python",
   "name": "python",
   "nbconvert_exporter": "python",
   "pygments_lexer": "ipython3",
   "version": "3.12.3"
  }
 },
 "nbformat": 4,
 "nbformat_minor": 4
}
