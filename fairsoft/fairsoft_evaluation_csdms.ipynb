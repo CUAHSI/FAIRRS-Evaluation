{
 "cells": [
  {
   "cell_type": "markdown",
   "metadata": {},
   "source": [
    "### Implementation of [FAIRsoft evaluation tool](https://openebench.bsc.es/observatory/Evaluation/) on CSDMS model repository.\n",
    "\n",
    "This notebook is intended to provide an example adaptation of the FAIRsoft evaluation workflow using the Observatory API and a custom GitHub metadta extraction routine to evaluate the FAIRsoft scores of research software in the CSDMS model repository."
   ]
  },
  {
   "cell_type": "code",
   "execution_count": null,
   "metadata": {},
   "outputs": [],
   "source": [
    "# import libaries to handle making Observatory API requests\n",
    "import evaluation_client\n",
    "import jsonld_client\n",
    "import cff_client\n",
    "# import custom libary for extracting GitHub metadata and mapping to observatory metadata schema\n",
    "import get_repository_metadata\n",
    "# import custom library for extracting GitHub URLs and metadata from CSDMS model repo\n",
    "import collect_csdms_urls\n",
    "# import standard Python libraries\n",
    "import pandas as pd\n",
    "import matplotlib.pyplot as plt\n",
    "import requests"
   ]
  },
  {
   "cell_type": "markdown",
   "metadata": {},
   "source": [
    "The GitHub repository URLs of the research software from CSDMS can now be imported (this step will be scripted with API query later):"
   ]
  },
  {
   "cell_type": "code",
   "execution_count": 2,
   "metadata": {},
   "outputs": [
    {
     "name": "stdout",
     "output_type": "stream",
     "text": [
      "0      https://github.com/anyadoc/MOOvCWD_InfectionMo...\n",
      "1      https://github.com/rossgore/ABM_Ethnocentrism_...\n",
      "2      https://github.com/SOSIEL/The-SOSIEL-Platform.git\n",
      "3               https://github.com/efyoungud/stationfire\n",
      "4       https://github.com/mathieuBourgais/KissNightClub\n",
      "                             ...                        \n",
      "192    https://git.wur.nl/Oort001/darts/-/tags/DARTSS...\n",
      "193                 https://github.com/ateeuw/3spire_GSA\n",
      "194              https://github.com/doodem/majorincident\n",
      "195    https://github.com/danielTorren/The_cultural_m...\n",
      "196                https://github.com/isaacullah/AgModel\n",
      "Name: Repository URL, Length: 197, dtype: object\n"
     ]
    }
   ],
   "source": [
    "df_csdms_repos = pd.read_csv('241113_csdms_repos.csv')\n",
    "github_urls = df_csdms_repos['Repository URL']\n",
    "print(github_urls)"
   ]
  },
  {
   "cell_type": "markdown",
   "metadata": {},
   "source": [
    "The GitHub repository URLs can be input into the FAIRsoft evaluation workflow:"
   ]
  },
  {
   "cell_type": "code",
   "execution_count": 3,
   "metadata": {},
   "outputs": [
    {
     "name": "stdout",
     "output_type": "stream",
     "text": [
      "https://github.com/SOSIEL/The-SOSIEL-Platform.git\n",
      "                                                     F1   F2   F3   A1   A2  \\\n",
      "GitHub URL                                                                    \n",
      "https://github.com/anyadoc/MOOvCWD_InfectionMod...  0.8  0.6  0.7  0.0  0.0   \n",
      "https://github.com/rossgore/ABM_Ethnocentrism_I...  0.8  0.6  0.7  0.0  0.0   \n",
      "\n",
      "                                                     A3   I1   I2   I3   R1  \\\n",
      "GitHub URL                                                                    \n",
      "https://github.com/anyadoc/MOOvCWD_InfectionMod...  0.0  0.0  0.0  0.0  0.0   \n",
      "https://github.com/rossgore/ABM_Ethnocentrism_I...  0.0  0.0  0.0  0.0  0.0   \n",
      "\n",
      "                                                     R2   R3   R4  \n",
      "GitHub URL                                                         \n",
      "https://github.com/anyadoc/MOOvCWD_InfectionMod...  0.0  1.0  0.0  \n",
      "https://github.com/rossgore/ABM_Ethnocentrism_I...  0.0  1.0  0.0  \n"
     ]
    }
   ],
   "source": [
    "# initalize dataframe for FAIRsoft scores\n",
    "indicators = [\n",
    "              'F1','F2','F3',\n",
    "              'A1','A2','A3',\n",
    "              'I1','I2','I3',\n",
    "              'R1','R2','R3','R4'\n",
    "]\n",
    "df_scores = pd.DataFrame(columns=indicators, dtype='object')\n",
    "\n",
    "for url in github_urls:\n",
    "    try:\n",
    "        # The GitHub repository URL can be input into the routine for metadata extraction and mapping to the observatory metadata schema\n",
    "        metadata = get_repository_metadata.main(url)\n",
    "        # Run scores and get evaluation results\n",
    "        fairsoft_scores,_ = evaluation_client.get_fairsoft_scores_and_evaluation(metadata)\n",
    "        # Return scores and turn into dataframe\n",
    "        df = pd.DataFrame([{indicator: fairsoft_scores[indicator] for indicator in indicators}], index=[url], dtype='object')\n",
    "    except:\n",
    "        # Report scores as none if the evaluation did not proceed\n",
    "        df = pd.DataFrame([{indicator: None for indicator in indicators}], index=[url], dtype='object')\n",
    "        print(url)\n",
    "        #break\n",
    "    # add row to summary dataframe\n",
    "    df_scores = pd.concat([df_scores,df])\n",
    "\n",
    "\n",
    "# save scores to file\n",
    "df_scores.index.name = 'GitHub URL'\n",
    "df_scores.to_csv('fairsoft_csdms_evaluation.csv')\n",
    "print(df_scores)"
   ]
  },
  {
   "cell_type": "code",
   "execution_count": 3,
   "metadata": {},
   "outputs": [
    {
     "name": "stdout",
     "output_type": "stream",
     "text": [
      "https://github.com/SOSIEL/The-SOSIEL-Platform.git\n",
      "                                                     F1   F2   F3   A1   A2  \\\n",
      "GitHub URL                                                                    \n",
      "https://github.com/anyadoc/MOOvCWD_InfectionMod...  0.8  0.6  0.7  0.0  0.0   \n",
      "https://github.com/rossgore/ABM_Ethnocentrism_I...  0.8  0.6  0.7  0.0  0.0   \n",
      "\n",
      "                                                     A3   I1   I2   I3   R1  \\\n",
      "GitHub URL                                                                    \n",
      "https://github.com/anyadoc/MOOvCWD_InfectionMod...  0.0  0.0  0.0  0.0  0.0   \n",
      "https://github.com/rossgore/ABM_Ethnocentrism_I...  0.0  0.0  0.0  0.0  0.0   \n",
      "\n",
      "                                                     R2   R3   R4  \n",
      "GitHub URL                                                         \n",
      "https://github.com/anyadoc/MOOvCWD_InfectionMod...  0.0  1.0  0.0  \n",
      "https://github.com/rossgore/ABM_Ethnocentrism_I...  0.0  1.0  0.0  \n"
     ]
    }
   ],
   "source": [
    "# initalize dataframe for FAIRsoft scores\n",
    "indicators = [\n",
    "              'F1','F2','F3',\n",
    "              'A1','A2','A3',\n",
    "              'I1','I2','I3',\n",
    "              'R1','R2','R3','R4'\n",
    "]\n",
    "df_scores = pd.DataFrame(columns=indicators, dtype='object')\n",
    "\n",
    "for url in github_urls:\n",
    "    try:\n",
    "        # The GitHub repository URL can be input into the routine for metadata extraction and mapping to the observatory metadata schema\n",
    "        metadata = get_repository_metadata.main(url)\n",
    "        # Run scores and get evaluation results\n",
    "        fairsoft_scores,_ = evaluation_client.get_fairsoft_scores_and_evaluation(metadata)\n",
    "        # Return scores and turn into dataframe\n",
    "        df = pd.DataFrame([{indicator: fairsoft_scores[indicator] for indicator in indicators}], index=[url], dtype='object')\n",
    "    except:\n",
    "        # Report scores as none if the evaluation did not proceed\n",
    "        df = pd.DataFrame([{indicator: None for indicator in indicators}], index=[url], dtype='object')\n",
    "        print(url)\n",
    "        break\n",
    "    # add row to summary dataframe\n",
    "    df_scores = pd.concat([df_scores,df])\n",
    "    # print(df_scores)\n",
    "\n",
    "\n",
    "# save scores to file\n",
    "df_scores.index.name = 'GitHub URL'\n",
    "df_scores.to_csv('fairsoft_csdms_evaluation.csv')\n",
    "print(df_scores)"
   ]
  },
  {
   "cell_type": "code",
   "execution_count": 7,
   "metadata": {},
   "outputs": [],
   "source": [
    "url = 'https://github.com/SOSIEL/The-SOSIEL-Platform'\n",
    "\n",
    "# The GitHub repository URL can be input into the routine for metadata extraction and mapping to the observatory metadata schema\n",
    "metadata = get_repository_metadata.main(url)\n",
    "# Run scores and get evaluation result\n",
    "#fairsoft_scores,_ = evaluation_client.get_fairsoft_scores_and_evaluation(metadata)"
   ]
  },
  {
   "cell_type": "code",
   "execution_count": 8,
   "metadata": {},
   "outputs": [
    {
     "data": {
      "text/plain": [
       "{'name': 'Algorithm-SOSIEL',\n",
       " 'label': ['Algorithm-SOSIEL'],\n",
       " 'description': [{'term': \"A repository with the SOSIEL (Self-Organizing Social & Inductive Evolutionary Learning) Algorithm's source files.\",\n",
       "   'id': 0}],\n",
       " 'links': [],\n",
       " 'webpage': [{'term': '', 'id': 0}],\n",
       " 'isDisabled': False,\n",
       " 'isEmpty': False,\n",
       " 'isLocked': False,\n",
       " 'isPrivate': False,\n",
       " 'isTemplate': False,\n",
       " 'license': [{'term': {'name': 'GNU Lesser General Public License v3.0',\n",
       "    'url': 'http://choosealicense.com/licenses/lgpl-3.0/'},\n",
       "   'id': 0}],\n",
       " 'repository': [{'term': 'https://github.com/SOSIEL/Algorithm-SOSIEL',\n",
       "   'id': 0}],\n",
       " 'topics': [],\n",
       " 'operations': [],\n",
       " 'authors': [{'term': {'name': 'dependabot[bot]',\n",
       "    'type': 'person',\n",
       "    'email': '49699333+dependabot[bot]@users.noreply.github.com',\n",
       "    'maintainer': False},\n",
       "   'id': 0},\n",
       "  {'term': {'name': 'Ivan Pizhenko',\n",
       "    'type': 'person',\n",
       "    'email': '11859904+IvanPizhenko@users.noreply.github.com',\n",
       "    'maintainer': False},\n",
       "   'id': 1},\n",
       "  {'term': {'name': 'Ivan Pizhenko',\n",
       "    'type': 'person',\n",
       "    'email': 'IvanPizhenko@users.noreply.github.com',\n",
       "    'maintainer': False},\n",
       "   'id': 2},\n",
       "  {'term': {'name': 'Garry Sotnik',\n",
       "    'type': 'person',\n",
       "    'email': 'gsotnik@gmail.com',\n",
       "    'maintainer': False},\n",
       "   'id': 3},\n",
       "  {'term': {'name': 'Garry Sotnik',\n",
       "    'type': 'person',\n",
       "    'email': 'gsotnik@users.noreply.github.com',\n",
       "    'maintainer': False},\n",
       "   'id': 4},\n",
       "  {'term': {'name': 'Eugene Lobach',\n",
       "    'type': 'person',\n",
       "    'email': 'elobach@gmail.com',\n",
       "    'maintainer': False},\n",
       "   'id': 5},\n",
       "  {'term': {'name': 'aleksandr.karifanov',\n",
       "    'type': 'person',\n",
       "    'email': 'aleksandr.karifanov@effective-soft.com',\n",
       "    'maintainer': False},\n",
       "   'id': 6},\n",
       "  {'term': {'name': 'Vadim Moskvin',\n",
       "    'type': 'person',\n",
       "    'email': 'vadim.moskvin@yandex.by',\n",
       "    'maintainer': False},\n",
       "   'id': 7},\n",
       "  {'term': {'name': 'Petr Sobolev',\n",
       "    'type': 'person',\n",
       "    'email': 'petrsobolev1432@gmail.com',\n",
       "    'maintainer': False},\n",
       "   'id': 8}],\n",
       " 'bioschemas': False,\n",
       " 'contribPolicy': [],\n",
       " 'dependencies': [],\n",
       " 'documentation': [],\n",
       " 'download': [],\n",
       " 'edam_operations': [],\n",
       " 'edam_topics': [],\n",
       " 'https': True,\n",
       " 'input': [],\n",
       " 'inst_instr': False,\n",
       " 'operational': False,\n",
       " 'os': [],\n",
       " 'output': [],\n",
       " 'publication': [],\n",
       " 'semantics': {'inputs': [], 'outputs': [], 'topics': [], 'operations': []},\n",
       " 'source': ['github'],\n",
       " 'src': [],\n",
       " 'ssl': True,\n",
       " 'tags': [],\n",
       " 'test': [],\n",
       " 'type': ''}"
      ]
     },
     "execution_count": 8,
     "metadata": {},
     "output_type": "execute_result"
    }
   ],
   "source": [
    "metadata"
   ]
  },
  {
   "cell_type": "code",
   "execution_count": 8,
   "metadata": {},
   "outputs": [
    {
     "data": {
      "text/plain": [
       "{'name': 'Algorithm-SOSIEL',\n",
       " 'label': ['Algorithm-SOSIEL'],\n",
       " 'description': [{'term': \"A repository with the SOSIEL (Self-Organizing Social & Inductive Evolutionary Learning) Algorithm's source files.\",\n",
       "   'id': 0}],\n",
       " 'links': [],\n",
       " 'webpage': [{'term': '', 'id': 0}],\n",
       " 'isDisabled': False,\n",
       " 'isEmpty': False,\n",
       " 'isLocked': False,\n",
       " 'isPrivate': False,\n",
       " 'isTemplate': False,\n",
       " 'license': [{'term': {'name': 'GNU Lesser General Public License v3.0',\n",
       "    'url': 'http://choosealicense.com/licenses/lgpl-3.0/'},\n",
       "   'id': 0}],\n",
       " 'repository': [{'term': 'https://github.com/SOSIEL/Algorithm-SOSIEL',\n",
       "   'id': 0}],\n",
       " 'topics': [],\n",
       " 'operations': [],\n",
       " 'authors': [{'term': {'name': 'dependabot[bot]',\n",
       "    'type': 'person',\n",
       "    'email': '49699333+dependabot[bot]@users.noreply.github.com',\n",
       "    'maintainer': False},\n",
       "   'id': 0},\n",
       "  {'term': {'name': 'Ivan Pizhenko',\n",
       "    'type': 'person',\n",
       "    'email': '11859904+IvanPizhenko@users.noreply.github.com',\n",
       "    'maintainer': False},\n",
       "   'id': 1},\n",
       "  {'term': {'name': 'Ivan Pizhenko',\n",
       "    'type': 'person',\n",
       "    'email': 'IvanPizhenko@users.noreply.github.com',\n",
       "    'maintainer': False},\n",
       "   'id': 2},\n",
       "  {'term': {'name': 'Garry Sotnik',\n",
       "    'type': 'person',\n",
       "    'email': 'gsotnik@gmail.com',\n",
       "    'maintainer': False},\n",
       "   'id': 3},\n",
       "  {'term': {'name': 'Garry Sotnik',\n",
       "    'type': 'person',\n",
       "    'email': 'gsotnik@users.noreply.github.com',\n",
       "    'maintainer': False},\n",
       "   'id': 4},\n",
       "  {'term': {'name': 'Eugene Lobach',\n",
       "    'type': 'person',\n",
       "    'email': 'elobach@gmail.com',\n",
       "    'maintainer': False},\n",
       "   'id': 5},\n",
       "  {'term': {'name': 'aleksandr.karifanov',\n",
       "    'type': 'person',\n",
       "    'email': 'aleksandr.karifanov@effective-soft.com',\n",
       "    'maintainer': False},\n",
       "   'id': 6},\n",
       "  {'term': {'name': 'Vadim Moskvin',\n",
       "    'type': 'person',\n",
       "    'email': 'vadim.moskvin@yandex.by',\n",
       "    'maintainer': False},\n",
       "   'id': 7},\n",
       "  {'term': {'name': 'Petr Sobolev',\n",
       "    'type': 'person',\n",
       "    'email': 'petrsobolev1432@gmail.com',\n",
       "    'maintainer': False},\n",
       "   'id': 8}],\n",
       " 'bioschemas': False,\n",
       " 'contribPolicy': [],\n",
       " 'dependencies': [],\n",
       " 'documentation': [],\n",
       " 'download': [],\n",
       " 'edam_operations': [],\n",
       " 'edam_topics': [],\n",
       " 'https': True,\n",
       " 'input': [],\n",
       " 'inst_instr': False,\n",
       " 'operational': False,\n",
       " 'os': [],\n",
       " 'output': [],\n",
       " 'publication': [],\n",
       " 'semantics': {'inputs': [], 'outputs': [], 'topics': [], 'operations': []},\n",
       " 'source': ['github'],\n",
       " 'src': [],\n",
       " 'ssl': True,\n",
       " 'tags': [],\n",
       " 'test': [],\n",
       " 'type': ''}"
      ]
     },
     "execution_count": 8,
     "metadata": {},
     "output_type": "execute_result"
    }
   ],
   "source": [
    "metadata"
   ]
  },
  {
   "cell_type": "code",
   "execution_count": 10,
   "metadata": {},
   "outputs": [
    {
     "name": "stdout",
     "output_type": "stream",
     "text": [
      "HTTP error occurred: 400 Client Error: Bad Request for url: https://observatory.openebench.bsc.es/api/fair/evaluate\n"
     ]
    }
   ],
   "source": [
    "evaluation_client.get_fairsoft_scores_and_evaluation(metadata)"
   ]
  },
  {
   "cell_type": "code",
   "execution_count": 13,
   "metadata": {},
   "outputs": [
    {
     "ename": "HTTPError",
     "evalue": "400 Client Error: Bad Request for url: https://observatory.openebench.bsc.es/api/fair/evaluate",
     "output_type": "error",
     "traceback": [
      "\u001b[1;31m---------------------------------------------------------------------------\u001b[0m",
      "\u001b[1;31mHTTPError\u001b[0m                                 Traceback (most recent call last)",
      "Cell \u001b[1;32mIn[13], line 17\u001b[0m\n\u001b[0;32m     15\u001b[0m \u001b[38;5;66;03m# get the response\u001b[39;00m\n\u001b[0;32m     16\u001b[0m response \u001b[38;5;241m=\u001b[39m requests\u001b[38;5;241m.\u001b[39mpost(endpoint_url,json\u001b[38;5;241m=\u001b[39mpayload,headers\u001b[38;5;241m=\u001b[39mheaders)\n\u001b[1;32m---> 17\u001b[0m response\u001b[38;5;241m.\u001b[39mraise_for_status()\n\u001b[0;32m     19\u001b[0m \u001b[38;5;28;01mif\u001b[39;00m response\u001b[38;5;241m.\u001b[39mstatus_code \u001b[38;5;241m==\u001b[39m \u001b[38;5;241m200\u001b[39m:\n\u001b[0;32m     20\u001b[0m     \u001b[38;5;66;03m# extract the json response\u001b[39;00m\n\u001b[0;32m     21\u001b[0m     json_response \u001b[38;5;241m=\u001b[39m response\u001b[38;5;241m.\u001b[39mjson()\n",
      "File \u001b[1;32m~\\anaconda3\\envs\\general\\Lib\\site-packages\\requests\\models.py:1021\u001b[0m, in \u001b[0;36mResponse.raise_for_status\u001b[1;34m(self)\u001b[0m\n\u001b[0;32m   1016\u001b[0m     http_error_msg \u001b[38;5;241m=\u001b[39m (\n\u001b[0;32m   1017\u001b[0m         \u001b[38;5;124mf\u001b[39m\u001b[38;5;124m\"\u001b[39m\u001b[38;5;132;01m{\u001b[39;00m\u001b[38;5;28mself\u001b[39m\u001b[38;5;241m.\u001b[39mstatus_code\u001b[38;5;132;01m}\u001b[39;00m\u001b[38;5;124m Server Error: \u001b[39m\u001b[38;5;132;01m{\u001b[39;00mreason\u001b[38;5;132;01m}\u001b[39;00m\u001b[38;5;124m for url: \u001b[39m\u001b[38;5;132;01m{\u001b[39;00m\u001b[38;5;28mself\u001b[39m\u001b[38;5;241m.\u001b[39murl\u001b[38;5;132;01m}\u001b[39;00m\u001b[38;5;124m\"\u001b[39m\n\u001b[0;32m   1018\u001b[0m     )\n\u001b[0;32m   1020\u001b[0m \u001b[38;5;28;01mif\u001b[39;00m http_error_msg:\n\u001b[1;32m-> 1021\u001b[0m     \u001b[38;5;28;01mraise\u001b[39;00m HTTPError(http_error_msg, response\u001b[38;5;241m=\u001b[39m\u001b[38;5;28mself\u001b[39m)\n",
      "\u001b[1;31mHTTPError\u001b[0m: 400 Client Error: Bad Request for url: https://observatory.openebench.bsc.es/api/fair/evaluate"
     ]
    }
   ],
   "source": [
    "if 'version' in metadata:\n",
    "    del metadata['version']\n",
    "\n",
    "endpoint_url = 'https://observatory.openebench.bsc.es/api/fair/evaluate'\n",
    "\n",
    "# define payload and content type headers\n",
    "payload = {\n",
    "    'tool_metadata': metadata\n",
    "}\n",
    "headers = {\n",
    "    'Content-Type': 'application/json'\n",
    "}\n",
    "\n",
    "\n",
    "# get the response\n",
    "response = requests.post(endpoint_url,json=payload,headers=headers)\n",
    "response.raise_for_status()\n",
    "\n",
    "if response.status_code == 200:\n",
    "    # extract the json response\n",
    "    json_response = response.json()\n",
    "\n",
    "    if json_response['result'] is not None:\n",
    "        # retrieve the results and logs\n",
    "        results = json_response['result']\n",
    "        logs = json_response['logs']\n",
    "        return results,logs\n",
    "    \n",
    "    else:\n",
    "        print('Error in obtaining FAIRsoft evaluation results.')\n"
   ]
  },
  {
   "cell_type": "code",
   "execution_count": 14,
   "metadata": {},
   "outputs": [
    {
     "data": {
      "text/plain": [
       "<Response [400]>"
      ]
     },
     "execution_count": 14,
     "metadata": {},
     "output_type": "execute_result"
    }
   ],
   "source": [
    "response"
   ]
  },
  {
   "cell_type": "code",
   "execution_count": 15,
   "metadata": {},
   "outputs": [
    {
     "data": {
      "text/plain": [
       "'{\"error\":\"Instance creation failed: 2 validation errors for Instance\\\\nauthors.0.email\\\\n  value is not a valid email address: The email address contains invalid characters before the @-sign: \\'[\\', \\']\\'. [type=value_error, input_value=\\'49699333+dependabot[bot]...sers.noreply.github.com\\', input_type=str]\\\\nwebpage.0\\\\n  Input should be a valid URL, input is empty [type=url_parsing, input_value=\\'\\', input_type=str]\\\\n    For further information visit https://errors.pydantic.dev/2.8/v/url_parsing\"}'"
      ]
     },
     "execution_count": 15,
     "metadata": {},
     "output_type": "execute_result"
    }
   ],
   "source": [
    "response.text"
   ]
  },
  {
   "cell_type": "code",
   "execution_count": 23,
   "metadata": {},
   "outputs": [],
   "source": [
    "metadata_2 = {'name': 'Algorithm-SOSIEL',\n",
    " 'label': ['Algorithm-SOSIEL'],\n",
    " 'description': [{'term': \"A repository with the SOSIEL (Self-Organizing Social & Inductive Evolutionary Learning) Algorithm's source files.\",\n",
    "   'id': 0}],\n",
    " 'links': [],\n",
    " 'webpage': [{'term': None, 'id': 0}],\n",
    " 'isDisabled': False,\n",
    " 'isEmpty': False,\n",
    " 'isLocked': False,\n",
    " 'isPrivate': False,\n",
    " 'isTemplate': False,\n",
    " 'license': [{'term': {'name': 'GNU Lesser General Public License v3.0',\n",
    "    'url': 'http://choosealicense.com/licenses/lgpl-3.0/'},\n",
    "   'id': 0}],\n",
    " 'repository': [{'term': 'https://github.com/SOSIEL/Algorithm-SOSIEL',\n",
    "   'id': 0}],\n",
    " 'topics': [],\n",
    " 'operations': [],\n",
    " 'authors': [\n",
    "  {'term': {'name': 'Ivan Pizhenko',\n",
    "    'type': 'person',\n",
    "    'email': '11859904+IvanPizhenko@users.noreply.github.com',\n",
    "    'maintainer': False},\n",
    "   'id': 1},\n",
    "  {'term': {'name': 'Ivan Pizhenko',\n",
    "    'type': 'person',\n",
    "    'email': 'IvanPizhenko@users.noreply.github.com',\n",
    "    'maintainer': False},\n",
    "   'id': 2},\n",
    "  {'term': {'name': 'Garry Sotnik',\n",
    "    'type': 'person',\n",
    "    'email': 'gsotnik@gmail.com',\n",
    "    'maintainer': False},\n",
    "   'id': 3},\n",
    "  {'term': {'name': 'Garry Sotnik',\n",
    "    'type': 'person',\n",
    "    'email': 'gsotnik@users.noreply.github.com',\n",
    "    'maintainer': False},\n",
    "   'id': 4},\n",
    "  {'term': {'name': 'Eugene Lobach',\n",
    "    'type': 'person',\n",
    "    'email': 'elobach@gmail.com',\n",
    "    'maintainer': False},\n",
    "   'id': 5},\n",
    "  {'term': {'name': 'aleksandr.karifanov',\n",
    "    'type': 'person',\n",
    "    'email': 'aleksandr.karifanov@effective-soft.com',\n",
    "    'maintainer': False},\n",
    "   'id': 6},\n",
    "  {'term': {'name': 'Vadim Moskvin',\n",
    "    'type': 'person',\n",
    "    'email': 'vadim.moskvin@yandex.by',\n",
    "    'maintainer': False},\n",
    "   'id': 7},\n",
    "  {'term': {'name': 'Petr Sobolev',\n",
    "    'type': 'person',\n",
    "    'email': 'petrsobolev1432@gmail.com',\n",
    "    'maintainer': False},\n",
    "   'id': 8}],\n",
    " 'bioschemas': False,\n",
    " 'contribPolicy': [],\n",
    " 'dependencies': [],\n",
    " 'documentation': [],\n",
    " 'download': [],\n",
    " 'edam_operations': [],\n",
    " 'edam_topics': [],\n",
    " 'https': True,\n",
    " 'input': [],\n",
    " 'inst_instr': False,\n",
    " 'operational': False,\n",
    " 'os': [],\n",
    " 'output': [],\n",
    " 'publication': [],\n",
    " 'semantics': {'inputs': [], 'outputs': [], 'topics': [], 'operations': []},\n",
    " 'source': ['github'],\n",
    " 'src': [],\n",
    " 'ssl': True,\n",
    " 'tags': [],\n",
    " 'test': [],\n",
    " 'type': ''}"
   ]
  },
  {
   "cell_type": "code",
   "execution_count": 24,
   "metadata": {},
   "outputs": [
    {
     "ename": "HTTPError",
     "evalue": "400 Client Error: Bad Request for url: https://observatory.openebench.bsc.es/api/fair/evaluate",
     "output_type": "error",
     "traceback": [
      "\u001b[1;31m---------------------------------------------------------------------------\u001b[0m",
      "\u001b[1;31mHTTPError\u001b[0m                                 Traceback (most recent call last)",
      "Cell \u001b[1;32mIn[24], line 17\u001b[0m\n\u001b[0;32m     15\u001b[0m \u001b[38;5;66;03m# get the response\u001b[39;00m\n\u001b[0;32m     16\u001b[0m response \u001b[38;5;241m=\u001b[39m requests\u001b[38;5;241m.\u001b[39mpost(endpoint_url,json\u001b[38;5;241m=\u001b[39mpayload,headers\u001b[38;5;241m=\u001b[39mheaders)\n\u001b[1;32m---> 17\u001b[0m response\u001b[38;5;241m.\u001b[39mraise_for_status()\n\u001b[0;32m     19\u001b[0m \u001b[38;5;28;01mif\u001b[39;00m response\u001b[38;5;241m.\u001b[39mstatus_code \u001b[38;5;241m==\u001b[39m \u001b[38;5;241m200\u001b[39m:\n\u001b[0;32m     20\u001b[0m     \u001b[38;5;66;03m# extract the json response\u001b[39;00m\n\u001b[0;32m     21\u001b[0m     json_response \u001b[38;5;241m=\u001b[39m response\u001b[38;5;241m.\u001b[39mjson()\n",
      "File \u001b[1;32m~\\anaconda3\\envs\\general\\Lib\\site-packages\\requests\\models.py:1021\u001b[0m, in \u001b[0;36mResponse.raise_for_status\u001b[1;34m(self)\u001b[0m\n\u001b[0;32m   1016\u001b[0m     http_error_msg \u001b[38;5;241m=\u001b[39m (\n\u001b[0;32m   1017\u001b[0m         \u001b[38;5;124mf\u001b[39m\u001b[38;5;124m\"\u001b[39m\u001b[38;5;132;01m{\u001b[39;00m\u001b[38;5;28mself\u001b[39m\u001b[38;5;241m.\u001b[39mstatus_code\u001b[38;5;132;01m}\u001b[39;00m\u001b[38;5;124m Server Error: \u001b[39m\u001b[38;5;132;01m{\u001b[39;00mreason\u001b[38;5;132;01m}\u001b[39;00m\u001b[38;5;124m for url: \u001b[39m\u001b[38;5;132;01m{\u001b[39;00m\u001b[38;5;28mself\u001b[39m\u001b[38;5;241m.\u001b[39murl\u001b[38;5;132;01m}\u001b[39;00m\u001b[38;5;124m\"\u001b[39m\n\u001b[0;32m   1018\u001b[0m     )\n\u001b[0;32m   1020\u001b[0m \u001b[38;5;28;01mif\u001b[39;00m http_error_msg:\n\u001b[1;32m-> 1021\u001b[0m     \u001b[38;5;28;01mraise\u001b[39;00m HTTPError(http_error_msg, response\u001b[38;5;241m=\u001b[39m\u001b[38;5;28mself\u001b[39m)\n",
      "\u001b[1;31mHTTPError\u001b[0m: 400 Client Error: Bad Request for url: https://observatory.openebench.bsc.es/api/fair/evaluate"
     ]
    }
   ],
   "source": [
    "if 'version' in metadata_2:\n",
    "    del metadata_2['version']\n",
    "\n",
    "endpoint_url = 'https://observatory.openebench.bsc.es/api/fair/evaluate'\n",
    "\n",
    "# define payload and content type headers\n",
    "payload = {\n",
    "    'tool_metadata': metadata_2\n",
    "}\n",
    "headers = {\n",
    "    'Content-Type': 'application/json'\n",
    "}\n",
    "\n",
    "\n",
    "# get the response\n",
    "response = requests.post(endpoint_url,json=payload,headers=headers)\n",
    "response.raise_for_status()\n",
    "\n",
    "if response.status_code == 200:\n",
    "    # extract the json response\n",
    "    json_response = response.json()\n",
    "\n",
    "    if json_response['result'] is not None:\n",
    "        # retrieve the results and logs\n",
    "        results = json_response['result']\n",
    "        logs = json_response['logs']\n",
    "        return results,logs\n",
    "    \n",
    "    else:\n",
    "        print('Error in obtaining FAIRsoft evaluation results.')"
   ]
  },
  {
   "cell_type": "code",
   "execution_count": 25,
   "metadata": {},
   "outputs": [
    {
     "data": {
      "text/plain": [
       "'{\"error\":\"Instance creation failed: 1 validation error for Instance\\\\nwebpage.0\\\\n  URL input should be a string or URL [type=url_type, input_value=None, input_type=NoneType]\\\\n    For further information visit https://errors.pydantic.dev/2.8/v/url_type\"}'"
      ]
     },
     "execution_count": 25,
     "metadata": {},
     "output_type": "execute_result"
    }
   ],
   "source": [
    "response.text"
   ]
  },
  {
   "cell_type": "code",
   "execution_count": null,
   "metadata": {},
   "outputs": [],
   "source": []
  }
 ],
 "metadata": {
  "kernelspec": {
   "display_name": "Python 3 (ipykernel)",
   "language": "python",
   "name": "python3"
  },
  "language_info": {
   "codemirror_mode": {
    "name": "ipython",
    "version": 3
   },
   "file_extension": ".py",
   "mimetype": "text/x-python",
   "name": "python",
   "nbconvert_exporter": "python",
   "pygments_lexer": "ipython3",
   "version": "3.12.3"
  }
 },
 "nbformat": 4,
 "nbformat_minor": 4
}
