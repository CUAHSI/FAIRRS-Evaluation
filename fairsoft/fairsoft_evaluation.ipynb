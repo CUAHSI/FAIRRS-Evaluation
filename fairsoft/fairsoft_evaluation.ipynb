{
 "cells": [
  {
   "cell_type": "code",
   "execution_count": 1,
   "metadata": {},
   "outputs": [],
   "source": [
    "# import custom libraries\n",
    "import preprocess_utils\n",
    "# these libaries handle making API requests\n",
    "import extractor_client\n",
    "import metadata_client\n",
    "import evaluation_client\n",
    "import jsonld_client"
   ]
  },
  {
   "cell_type": "code",
   "execution_count": 2,
   "metadata": {},
   "outputs": [],
   "source": [
    "github_url = 'https://github.com/inab/oeb-visualizations'"
   ]
  },
  {
   "cell_type": "code",
   "execution_count": 3,
   "metadata": {},
   "outputs": [],
   "source": [
    "repo,owner = preprocess_utils.get_github_repo_and_owner(github_url)"
   ]
  },
  {
   "cell_type": "code",
   "execution_count": 4,
   "metadata": {},
   "outputs": [
    {
     "name": "stdout",
     "output_type": "stream",
     "text": [
      "54913160\n"
     ]
    }
   ],
   "source": [
    "install_id = extractor_client.get_installation_id(repo,owner)\n",
    "print(install_id)"
   ]
  },
  {
   "cell_type": "code",
   "execution_count": 5,
   "metadata": {},
   "outputs": [
    {
     "name": "stdout",
     "output_type": "stream",
     "text": [
      "{'name': 'oeb-visualizations', 'label': ['oeb-visualizations'], 'description': [{'term': 'Library of data visualizations for OpenEBench', 'id': 0}], 'links': [], 'webpage': [{'term': 'https://inab.github.io/oeb-visualizations/', 'id': 0}], 'isDisabled': False, 'isEmpty': False, 'isLocked': False, 'isPrivate': False, 'isTemplate': False, 'version': [], 'license': [{'term': {'name': 'MIT License', 'url': 'http://choosealicense.com/licenses/mit/'}, 'id': 0}], 'repository': [{'term': 'https://github.com/inab/oeb-visualizations', 'id': 0}], 'topics': [{'term': {'uri': 'https://github.com/topics/openebench', 'term': 'openebench', 'vocabulary': ''}, 'id': 0}, {'term': {'uri': 'https://github.com/topics/plotlyjs', 'term': 'plotlyjs', 'vocabulary': ''}, 'id': 1}, {'term': {'uri': 'https://github.com/topics/vue', 'term': 'vue', 'vocabulary': ''}, 'id': 2}], 'operations': [], 'authors': [{'term': {'name': 'Eva Martin del Pico', 'type': 'person', 'email': 'eva.martin@bsc.es', 'maintainer': False}, 'id': 0}, {'term': {'name': 'OEB FAIRsoftEvaluator', 'type': 'person', 'email': 'openebench@bsc.es', 'maintainer': False}, 'id': 1}, {'term': {'name': 'Eva Martin del Pico', 'type': 'person', 'email': 'eva.mdpico@gmail.com', 'maintainer': False}, 'id': 2}], 'bioschemas': False, 'contribPolicy': [], 'dependencies': [], 'documentation': [{'term': {'type': 'changelog', 'url': 'https://github.com/inab/oeb-visualizations/blob/main/CHANGELOG.md'}, 'id': 0}, {'term': {'type': 'contributing', 'url': 'https://github.com/inab/oeb-visualizations/blob/main/CONTRIBUTING.md'}, 'id': 1}, {'term': {'type': 'readme', 'url': 'https://github.com/inab/oeb-visualizations/blob/main/README.md'}, 'id': 2}, {'term': {'type': 'requirements', 'url': 'https://github.com/inab/oeb-visualizations/blob/main/requirements.txt'}, 'id': 3}, {'term': {'type': 'docs', 'url': 'https://github.com/inab/oeb-visualizations/blob/main/docs/index.md'}, 'id': 4}], 'download': [], 'edam_operations': [], 'edam_topics': [], 'https': True, 'input': [], 'inst_instr': False, 'operational': False, 'os': [], 'output': [], 'publication': [], 'semantics': {'inputs': [], 'outputs': [], 'topics': [], 'operations': []}, 'source': ['github'], 'src': [], 'ssl': True, 'tags': [], 'test': [], 'type': ''}\n"
     ]
    }
   ],
   "source": [
    "metadata = metadata_client.get_repository_metadata(repo,owner,install_id)\n",
    "print(metadata)"
   ]
  },
  {
   "cell_type": "code",
   "execution_count": 7,
   "metadata": {},
   "outputs": [
    {
     "name": "stdout",
     "output_type": "stream",
     "text": [
      "HTTP error occurred: 422 Client Error: Unprocessable Entity for url: https://observatory.openebench.bsc.es/api/fair/evaluate\n",
      "None\n"
     ]
    }
   ],
   "source": [
    "evaluation = evaluation_client.get_fairsoft_results_and_logs(metadata)\n",
    "print(evaluation[0]) #results\n",
    "print(evaluation[1]) #logs"
   ]
  },
  {
   "cell_type": "code",
   "execution_count": null,
   "metadata": {},
   "outputs": [],
   "source": []
  }
 ],
 "metadata": {
  "kernelspec": {
   "display_name": "Python 3 (ipykernel)",
   "language": "python",
   "name": "python3"
  },
  "language_info": {
   "codemirror_mode": {
    "name": "ipython",
    "version": 3
   },
   "file_extension": ".py",
   "mimetype": "text/x-python",
   "name": "python",
   "nbconvert_exporter": "python",
   "pygments_lexer": "ipython3",
   "version": "3.12.3"
  }
 },
 "nbformat": 4,
 "nbformat_minor": 4
}
