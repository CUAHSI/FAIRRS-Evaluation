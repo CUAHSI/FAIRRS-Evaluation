{
 "cells": [
  {
   "cell_type": "markdown",
   "metadata": {},
   "source": [
    "### Example execution of [FAIRsoft evaluation tool](https://openebench.bsc.es/observatory/Evaluation/) via [GitHub Metadata API](https://observatory.openebench.bsc.es/github-metadata-api/api-docs/) and [Observatory API](https://observatory.openebench.bsc.es/api/docs).\n",
    "\n",
    "This notebook is intended to provide an example and validation for using the GitHub Metadata API and Observatory API to extract, score, evaluate and export research software metadata in a GitHub repository to improve research software FAIRness. There are other features of the FAIRsoft evaluation tool (e.g., metadata updating) that are not included in this notebook."
   ]
  },
  {
   "cell_type": "code",
   "execution_count": 1,
   "metadata": {},
   "outputs": [],
   "source": [
    "# import libaries to handle making API requests\n",
    "from src import github_metadata_api_client\n",
    "from src import observatory_api_client"
   ]
  },
  {
   "cell_type": "markdown",
   "metadata": {},
   "source": [
    "The GitHub repository URL of the software is used as input to this workflow.  "
   ]
  },
  {
   "cell_type": "code",
   "execution_count": 2,
   "metadata": {},
   "outputs": [],
   "source": [
    "github_url = 'https://github.com/inab/oeb-visualizations'"
   ]
  },
  {
   "cell_type": "markdown",
   "metadata": {},
   "source": [
    "The GitHub repository URL can be input into the [/metadata-extractor-for-fairsoft/installation/id](https://observatory.openebench.bsc.es/github-metadata-api/api-docs/#/Metadata%20Extractor%20for%20FAIRsoft/get_metadata_extractor_for_fairsoft_installation_id) GitHub Metadata API endpoint which returns an installation ID for the [Metadata Extractor for FAIRsoft](https://github.com/settings/installations/54726444) GitHub App along with raw GitHub metadata (note the GitHub App must be installed in the user workspace with read access to the input repository):"
   ]
  },
  {
   "cell_type": "code",
   "execution_count": 3,
   "metadata": {},
   "outputs": [],
   "source": [
    "install_id,owner,repo = github_metadata_api_client.get_installation_id(github_url)"
   ]
  },
  {
   "cell_type": "markdown",
   "metadata": {},
   "source": [
    "Using this GitHub App installation ID, we can extract the repository metadata as JSON using the [/metadata-extractor-for-fairsoft/metadata](https://observatory.openebench.bsc.es/github-metadata-api/api-docs/#/Metadata%20Extractor%20for%20FAIRsoft/post_metadata) GitHub Metadata API endpoint:"
   ]
  },
  {
   "cell_type": "code",
   "execution_count": 4,
   "metadata": {},
   "outputs": [],
   "source": [
    "metadata = github_metadata_api_client.get_repository_metadata(install_id,owner,repo)"
   ]
  },
  {
   "cell_type": "code",
   "execution_count": 5,
   "metadata": {},
   "outputs": [
    {
     "name": "stdout",
     "output_type": "stream",
     "text": [
      "{'name': 'oeb-visualizations', 'label': ['oeb-visualizations', 'oeb-visualizations'], 'description': [{'term': 'Library of data visualizations for OpenEBench', 'id': 0}], 'links': [], 'webpage': [{'term': 'https://inab.github.io/oeb-visualizations/', 'id': 0}], 'isDisabled': False, 'isEmpty': False, 'isLocked': False, 'isPrivate': False, 'isTemplate': False, 'version': [], 'license': [{'term': {'name': 'MIT License', 'url': 'http://choosealicense.com/licenses/mit/'}, 'id': 0}], 'repository': [{'term': 'https://github.com/inab/oeb-visualizations', 'id': 0}], 'topics': [{'term': {'uri': 'https://github.com/topics/openebench', 'term': 'openebench', 'vocabulary': ''}, 'id': 0}, {'term': {'uri': 'https://github.com/topics/plotlyjs', 'term': 'plotlyjs', 'vocabulary': ''}, 'id': 1}, {'term': {'uri': 'https://github.com/topics/vue', 'term': 'vue', 'vocabulary': ''}, 'id': 2}], 'operations': [], 'authors': [{'term': {'name': 'Eva Martin del Pico undefined', 'email': '', 'maintainer': False, 'type': 'person'}, 'id': 0}, {'term': {'name': 'OEB FAIRsoftEvaluator undefined', 'email': '', 'maintainer': False, 'type': 'person'}, 'id': 1}, {'term': {'name': 'Eva Martin del Pico undefined', 'email': '', 'maintainer': False, 'type': 'person'}, 'id': 2}], 'bioschemas': False, 'contribPolicy': [], 'dependencies': [], 'documentation': [{'term': {'type': 'changelog', 'url': 'https://github.com/inab/oeb-visualizations/blob/main/CHANGELOG.md'}, 'id': 0}, {'term': {'type': 'contributing', 'url': 'https://github.com/inab/oeb-visualizations/blob/main/CONTRIBUTING.md'}, 'id': 1}, {'term': {'type': 'readme', 'url': 'https://github.com/inab/oeb-visualizations/blob/main/README.md'}, 'id': 2}, {'term': {'type': 'requirements', 'url': 'https://github.com/inab/oeb-visualizations/blob/main/requirements.txt'}, 'id': 3}, {'term': {'type': 'docs', 'url': 'https://github.com/inab/oeb-visualizations/blob/main/docs/index.md'}, 'id': 4}], 'download': [], 'edam_operations': [], 'edam_topics': [], 'https': True, 'input': [], 'inst_instr': False, 'operational': False, 'os': [], 'output': [], 'publication': [], 'semantics': {'inputs': [], 'outputs': [], 'topics': [], 'operations': []}, 'source': ['github'], 'src': [], 'ssl': True, 'tags': [], 'test': [], 'type': '', 'citation': 'cff-version: 1.2.0\\nmessage: If you use this software, please cite it as below.\\ntitle: oeb-visualizations\\nauthors:\\n- given-names: Eva Martin del Pico\\n  email: eva.martin@bsc.es\\n- given-names: OEB FAIRsoftEvaluator\\n  email: openebench@bsc.es\\n- given-names: Eva Martin del Pico\\n  email: eva.mdpico@gmail.com\\nrepository: https://github.com/inab/oeb-visualizations\\nurl: https://inab.github.io/oeb-visualizations/\\n'}\n"
     ]
    }
   ],
   "source": [
    "print(metadata)"
   ]
  },
  {
   "cell_type": "markdown",
   "metadata": {},
   "source": [
    "The evaluation tool can be run by passing the metadata to the [/fair/evaluate](https://observatory.openebench.bsc.es/api/docs#/fair/evaluate_fair_evaluate_post) Observatory API endpoint to generate a JSON of FAIRsoft indicator scores and evaluation results (note [this documentation](https://inab.github.io/FAIRsoft_indicators/) contains detailed descriptions on each of the FAIRsoft indicators and scoring system):"
   ]
  },
  {
   "cell_type": "code",
   "execution_count": 6,
   "metadata": {
    "scrolled": true
   },
   "outputs": [],
   "source": [
    "fairsoft_scores,fairsoft_evaluation = observatory_api_client.get_fairsoft_scores_and_evaluation(metadata)"
   ]
  },
  {
   "cell_type": "code",
   "execution_count": 7,
   "metadata": {},
   "outputs": [
    {
     "name": "stdout",
     "output_type": "stream",
     "text": [
      "{'name': 'oeb-visualizations', 'type': '', 'version': None, 'F': 0.72, 'F1': 0.8, 'F1_1': True, 'F1_2': False, 'F2': 0.6, 'F2_1': True, 'F2_2': False, 'F3': 0.7, 'F3_1': False, 'F3_2': True, 'F3_3': False, 'A': 0.0, 'A1': 0.0, 'A1_1': False, 'A1_2': False, 'A1_3': False, 'A1_4': False, 'A1_5': False, 'A2': 0.0, 'A2_1': False, 'A2_2': False, 'A3': 0.0, 'A3_1': False, 'A3_2': False, 'A3_3': False, 'A3_4': False, 'A3_5': False, 'I': 0.0, 'I1': 0.0, 'I1_1': False, 'I1_2': False, 'I1_3': False, 'I1_4': False, 'I1_5': False, 'I2': 0.0, 'I2_1': False, 'I2_2': False, 'I3': 0.0, 'I3_1': False, 'I3_2': False, 'I3_3': False, 'R': 1.0, 'R1': 1.0, 'R1_1': True, 'R1_2': False, 'R2': 1.0, 'R2_1': True, 'R2_2': True, 'R3': 1.0, 'R3_1': False, 'R3_2': True, 'R4': 1.0, 'R4_1': True, 'R4_2': False, 'R4_3': False}\n"
     ]
    }
   ],
   "source": [
    "print(fairsoft_scores)"
   ]
  },
  {
   "cell_type": "code",
   "execution_count": 8,
   "metadata": {},
   "outputs": [
    {
     "name": "stdout",
     "output_type": "stream",
     "text": [
      "{'F1_1': ['The metadata is assigned a name to be identified.'], 'F1_2': ['❌ No version provided.', 'Result: FAILED'], 'F2_1': ['⚙️ Checking if any source provides structured metadata.', \"🔍 Sources provided: ['github']\", '⚙️ Comparing sources against: ', \"✅ Source 'github' provides structured metadata.\", 'Result: PASSED'], 'F2_2': ['⚙️ Verifying whether a topic or operation is part of a specific ontology or controlled vocabulary.', '🔍 Topics provided:', 'vocabulary: , term: openebench, uri: https://github.com/topics/openebench, ', 'vocabulary: , term: plotlyjs, uri: https://github.com/topics/plotlyjs, ', 'vocabulary: , term: vue, uri: https://github.com/topics/vue, ', '🔍 No operations provided.', '⚙️ Checking if any topic is part of an ontology or controlled vocabulary.', \"❌ Topic 'openebench' is not part of any ontology or controlled vocabulary.\", \"❌ Topic 'plotlyjs' is not part of any ontology or controlled vocabulary.\", \"❌ Topic 'vue' is not part of any ontology or controlled vocabulary.\", '❌ No topic or operation involves the use of ontologies or controlled vocabularies.', 'Result: FAILED'], 'F3_1': ['⚙️ Checking if any source matches software registries.', \"🔍 Sources provided: ['github']\", \" ⚙️ Comparing sources against: ['biotools', 'bioconda', 'bioconductor', 'toolshed', 'sourceforge']\", '❌ No source matches software registries. Checking registries ...', '⚙️ Checking if the specified software registry matches any of the known registries.', '🔍 No registries provided.', '⚙️ Comparing registries against: ', '❌ No registry matches software registries.', 'Result: FAILED'], 'F3_2': ['⚙️ Checking if any repository is an operational software repository.', '🔍 Repositories provided:', '- https://github.com/inab/oeb-visualizations', '✅ At least one valid repository found.', 'Result: PASSED'], 'F3_3': ['⚙️ Checking if any publication is a valid publication.', '🔍 No publications provided.', '❌ No publication.', 'Result: FAILED'], 'A1_1': ['This is not a web-based software. This indicator is not applicable. '], 'A1_2': ['⚙️ Checking if download links are operational', '🔍 No downloads provided.', '❌ Result: No download link provided.', 'Status: FAILED'], 'A1_3': ['⚙️ Checking if there are installation instructions and whether they are operational', '🔍 Documentation provided:', 'type: changelog, url: https://github.com/inab/oeb-visualizations/blob/main/CHANGELOG.md, ', 'type: contributing, url: https://github.com/inab/oeb-visualizations/blob/main/CONTRIBUTING.md, ', 'type: readme, url: https://github.com/inab/oeb-visualizations/blob/main/README.md, ', 'type: requirements, url: https://github.com/inab/oeb-visualizations/blob/main/requirements.txt, ', 'type: docs, url: https://github.com/inab/oeb-visualizations/blob/main/docs/index.md, ', '❌ No installation instructions found in documentation. Checking sources ...', '⚙️ Checking if any of the sources provide installation instructions', \"🔍 Sources provided: ['github']\", \"Sources that have installation instructions: ['bioconda', 'bioconductor', 'galaxy', 'toolshed', 'bioconda_conda', 'bioconda_recipes']\", '❌ No source provides installation instructions.', 'Result: FAILED'], 'A1_4': ['⚙️ Verifying if test data is explicitly provided and if the provided URL is operational.', '🔍 No test data URLs provided.', '❌ No test data provided.', '❌ No operational test data found. Checking documentation ...', '⚙️ Checking if test data is present in documentation and its URL is operational', '🔍 Documentation provided:', 'type: changelog, url: https://github.com/inab/oeb-visualizations/blob/main/CHANGELOG.md, ', 'type: contributing, url: https://github.com/inab/oeb-visualizations/blob/main/CONTRIBUTING.md, ', 'type: readme, url: https://github.com/inab/oeb-visualizations/blob/main/README.md, ', 'type: requirements, url: https://github.com/inab/oeb-visualizations/blob/main/requirements.txt, ', 'type: docs, url: https://github.com/inab/oeb-visualizations/blob/main/docs/index.md, ', '❌ No test data found in documentation or the provided URL is not operational.', 'Result: FAILED'], 'A1_5': ['⚙️ Checking if source code is provided and operational', '🔍 No source URLs provided.', '❌ Source code is not provided.', 'Result: FAILED'], 'A2_1': ['This indicator is currently not measured.'], 'A2_2': ['This indicator is currently not measured.'], 'A3_1': ['⚙️ Checking if registration is compulsory', '🔍 Received registration_not_mandatory: False', '❌ Registration seems compulsory.', 'Result: FAIL'], 'A3_2': ['⚙️  Verifying if at least one operating system is classified as free.', '🔍 No operating systems provided.', \"List of OS considered free: ['linux', 'freebsd', 'openbsd', 'netbsd', 'dragonfly bsd', 'reactos', 'haiku']\", '❌ No OS available.', 'Result: FAILED'], 'A3_3': ['⚙️ Checking if more than one OS is available', '🔍 No operating systems provided.', '❌ No OS available.', 'Result: FAIL'], 'A3_4': ['⚙️ Checking if any of the e-infrastructures is free e-infrastructures', '🔍 No e-infrastructures provided.', 'Free e-infrastructures considered: {E_INFRASTRUCTURES}', '❌ No e-infrastructures available.', '⚙️ Checking if any of the links reference free e-infrastructures', '🔍 Webpages provided:', '- https://inab.github.io/oeb-visualizations/', '❌ The following URL does not reference a free infrastructure: https://inab.github.io/oeb-visualizations/', '⚙️ Checking if any of the sources reference free e-infrastructures', \"🔍 Sources provided: ['github']\", '❌ No free e-infrastructures referenced in the source.', 'Result: FAILED'], 'A3_5': ['⚙️ Checking if more than one e-infrastructure is available', '🔍 No e-infrastructures provided.', '❌ No e-infrastructures available.', '⚙️ Checking if more than one e-infrastructure is referenced in the links and the link is operational', '🔍 Webpages provided:', '- https://inab.github.io/oeb-visualizations/', 'Number of e-infrastructures referenced in the links: 0', '❌ No operational. Checking sources ...', '⚙️ Checking if more than one e-infrastructure is referenced in the source', \"🔍 Sources provided: ['github']\", '❌ No e-infrastructures referenced in the source.', 'Result: FAILED'], 'I1_1': ['⚙️ Checking if any of the inputs or outputs use a standard data format.', '🔍 No inputs provided.', '🔍 No outputs provided.', '❌ No standard data formats found in inputs or outputs.', 'Result: FAIL'], 'I1_2': ['This is not a web-based software. This indicator is not applicable.'], 'I1_3': ['⚙️ Checking if any data format is verifiable.', '🔍 No inputs provided.', '🔍 No outputs provided.', 'Formats considered verifiable: https://observatory.openebench.bsc.es/api/lists/verifiable_formats', 'Formats found: set()', '❌ No verifiable data formats found.', 'Result: FAILED'], 'I1_4': ['⚙️ Checking if more than one input and output data formats are supported.', '🔍 No inputs provided.', '🔍 No outputs provided.', '❌ Less than one input or output data formats found.', 'Result: FAILED'], 'I1_5': ['This indicator is currently not measured.'], 'I2_1': ['⚙️ Checking if the instance type is one of the valid options (lib, rest, soap, or api).', '🔍 No type provided.', '❌ Instance type is not valid.', 'Result: FAILED'], 'I2_2': ['⚙️ Checking if at least one e-infrastructure is available', '🔍 Received e-infrastructures: []', '❌ No e-infrastructures provided. Checking links ...', '⚙️ Checking if at least one e-infrastructure is referenced in the links and the link is operational', 'Considered e-infrastructures: https://observatory.openebench.bsc.es/api/lists/e_infrastructures', '🔍 Webpages provided:', '- https://inab.github.io/oeb-visualizations/', '❌ No operational e-infrastructures referenced in the links. Checking sources ...', '⚙️ Checking if at least one e-infrastructure is referenced in the source', \"🔍 Sources provided: ['github']\", '❌ No e-infrastructures referenced in the source.', 'Result: FAILED'], 'I3_1': ['⚙️ Checking if dependencies are stated.', '🔍 No dependencies provided.', '❌ No dependencies found.', 'Result: FAILED'], 'I3_2': ['⚙️ Checking if dependencies are provided through dependencies-aware systems.', 'Checking registries, links, and sources.', \"🔍 Sources provided: ['github']\", '🔍 No registries provided.', '🔍 No links provided.', '❌ No dependencies-aware system identified.', 'Result: FAILED'], 'I3_3': ['⚙️ Checking if dependencies are provided through dependencies-aware systems.', 'Checking registries, links, and sources.', \"🔍 Sources provided: ['github']\", '🔍 No registries provided.', '🔍 No links provided.', '❌ No dependencies-aware system identified.', 'Result: FAILED'], 'R1_1': ['⚙️ Checking if any documentation is a usage guide and URL is operational.', '🔍 Documentation provided:', 'type: changelog, url: https://github.com/inab/oeb-visualizations/blob/main/CHANGELOG.md, ', 'type: contributing, url: https://github.com/inab/oeb-visualizations/blob/main/CONTRIBUTING.md, ', 'type: readme, url: https://github.com/inab/oeb-visualizations/blob/main/README.md, ', 'type: requirements, url: https://github.com/inab/oeb-visualizations/blob/main/requirements.txt, ', 'type: docs, url: https://github.com/inab/oeb-visualizations/blob/main/docs/index.md, ', 'Checking documentation types against excluded types: https://observatory.openebench.bsc.es/api/lists/no_guide', '❌ The following documentation is not a usage guide: changelog -- https://github.com/inab/oeb-visualizations/blob/main/CHANGELOG.md', '✅ The following documentation is a usage guide and operational: contributing -- https://github.com/inab/oeb-visualizations/blob/main/CONTRIBUTING.md', '✅ The following documentation is a usage guide and operational: readme -- https://github.com/inab/oeb-visualizations/blob/main/README.md', '✅ The following documentation is a usage guide and operational: requirements -- https://github.com/inab/oeb-visualizations/blob/main/requirements.txt', '✅ The following documentation is a usage guide and operational: docs -- https://github.com/inab/oeb-visualizations/blob/main/docs/index.md', '✅ At least one documentation is a usage guide and its URL is operational.', 'Result: PASSED'], 'R1_2': ['This indicator is currently not measured.'], 'R2_1': ['⚙️ Checking if a valid license is explicitly stated.', '🔍 Licenses provided:', 'name: MIT License, url: http://choosealicense.com/licenses/mit/, ', 'Checking license: MIT License', '✅ A valid license is explicitly stated: MIT License', '✅ At least one valid license is explicitly stated.', 'Result: PASSED'], 'R2_2': ['⚙️ Checking if a valid license is explicitly stated.', '🔍 Licenses provided:', 'name: MIT License, url: http://choosealicense.com/licenses/mit/, ', 'Checking license: MIT License', '✅ A valid license is explicitly stated: MIT License', '✅ At least one valid license is explicitly stated.', 'Result: PASSED'], 'R3_1': ['⚙️ Checking if any documentation matches contribution policy types and the URL is operational.', '🔍 Documentation provided:', 'type: changelog, url: https://github.com/inab/oeb-visualizations/blob/main/CHANGELOG.md, ', 'type: contributing, url: https://github.com/inab/oeb-visualizations/blob/main/CONTRIBUTING.md, ', 'type: readme, url: https://github.com/inab/oeb-visualizations/blob/main/README.md, ', 'type: requirements, url: https://github.com/inab/oeb-visualizations/blob/main/requirements.txt, ', 'type: docs, url: https://github.com/inab/oeb-visualizations/blob/main/docs/index.md, ', 'Checking against contribution policy types: https://observatory.openebench.bsc.es/api/lists/contribution_policy_types', '❌ A documentation does not match contribution policy types: changelog -- https://github.com/inab/oeb-visualizations/blob/main/CHANGELOG.md', '✅ A documentation matches contribution policy types and URL is operational: contributing -- https://github.com/inab/oeb-visualizations/blob/main/CONTRIBUTING.md', '❌ A documentation does not match contribution policy types: readme -- https://github.com/inab/oeb-visualizations/blob/main/README.md', '❌ A documentation does not match contribution policy types: requirements -- https://github.com/inab/oeb-visualizations/blob/main/requirements.txt', '❌ A documentation does not match contribution policy types: docs -- https://github.com/inab/oeb-visualizations/blob/main/docs/index.md', '✅ At least one documentation matches contribution policy types and URL is operational.', 'Result: PASSED'], 'R3_2': ['⚙️ Checking if any authors are stated.', '🔍 Authors provided:', 'name: Eva Martin del Pico undefined, type: person, email: None, maintainer: False, ', 'name: OEB FAIRsoftEvaluator undefined, type: person, email: None, maintainer: False, ', 'name: Eva Martin del Pico undefined, type: person, email: None, maintainer: False, ', '✅ Authors are stated.', 'Result: PASSED'], 'R4_1': ['⚙️ Checking if version control is used.', '🔍 Received version control information: True', '✅ Version control is used.', 'Result: PASSED'], 'R4_2': ['⚙️ Checking if any documentation matches release policy types and the URL is operational.', '🔍 Documentation provided:', 'type: changelog, url: https://github.com/inab/oeb-visualizations/blob/main/CHANGELOG.md, ', 'type: contributing, url: https://github.com/inab/oeb-visualizations/blob/main/CONTRIBUTING.md, ', 'type: readme, url: https://github.com/inab/oeb-visualizations/blob/main/README.md, ', 'type: requirements, url: https://github.com/inab/oeb-visualizations/blob/main/requirements.txt, ', 'type: docs, url: https://github.com/inab/oeb-visualizations/blob/main/docs/index.md, ', 'Checking against release policy types: https://observatory.openebench.bsc.es/api/lists/release_policy_types', '❌ A documentation does not match release policy types: changelog -- https://github.com/inab/oeb-visualizations/blob/main/CHANGELOG.md', '❌ A documentation does not match release policy types: contributing -- https://github.com/inab/oeb-visualizations/blob/main/CONTRIBUTING.md', '❌ A documentation does not match release policy types: readme -- https://github.com/inab/oeb-visualizations/blob/main/README.md', '❌ A documentation does not match release policy types: requirements -- https://github.com/inab/oeb-visualizations/blob/main/requirements.txt', '❌ A documentation does not match release policy types: docs -- https://github.com/inab/oeb-visualizations/blob/main/docs/index.md', '❌ No documentation matches release policy types.', 'Result: FAILED'], 'R4_3': ['This indicator is currently not measured.']}\n"
     ]
    }
   ],
   "source": [
    "print(fairsoft_evaluation)"
   ]
  },
  {
   "cell_type": "markdown",
   "metadata": {},
   "source": [
    "We can also pass the metadata to the [/tools/jsonld](https://observatory.openebench.bsc.es/api/docs#/tools/tool_jsonld_tools_jsonld_post) Observatory API endpoint to generate a haromnized Schema.org metadata in JSON-LD format for adding to the GitHub repository."
   ]
  },
  {
   "cell_type": "code",
   "execution_count": 9,
   "metadata": {},
   "outputs": [],
   "source": [
    "jsonld_metadata = observatory_api_client.get_jsonld_metadata(metadata)"
   ]
  },
  {
   "cell_type": "code",
   "execution_count": 10,
   "metadata": {},
   "outputs": [
    {
     "name": "stdout",
     "output_type": "stream",
     "text": [
      "{'@context': {'schema': 'https://schema.org/', 'bs': 'https://bioschemas.org/terms/', 'codemeta': 'https://w3id.org/codemeta/', 'rdf': 'https://www.w3.org/1999/02/22-rdf-syntax-ns#', 'rdfs': 'https://www.w3.org/2000/01/rdf-schema#', 'maSMP': 'https://discovery.biothings.io/view/maSMP/'}, '@type': 'schema:SoftwareApplication', 'schema:applicationSubcategory': ['https://github.com/topics/openebench', 'https://github.com/topics/plotlyjs', 'https://github.com/topics/vue'], 'schema:name': 'oeb-visualizations', '@id': 'https://openebench.bsc.es/bioschemas/tools/observatory:oeb-visualizations:None/', 'schema:description': 'Library of data visualizations for OpenEBench', 'schema:license': [{'@type': 'schema:CreativeWork', 'schema:name': 'MIT License', 'schema:url': 'http://choosealicense.com/licenses/mit/'}], 'schema:author': [{'@type': 'schema:Person', 'schema:name': 'Eva Martin del Pico undefined'}, {'@type': 'schema:Person', 'schema:name': 'OEB FAIRsoftEvaluator undefined'}, {'@type': 'schema:Person', 'schema:name': 'Eva Martin del Pico undefined'}], 'schema:codeRepository': ['https://github.com/inab/oeb-visualizations'], 'schema:softwareHelp': [{'@id': 'https://github.com/inab/oeb-visualizations/blob/main/CHANGELOG.md'}, {'@id': 'https://github.com/inab/oeb-visualizations/blob/main/CONTRIBUTING.md'}, {'@id': 'https://github.com/inab/oeb-visualizations/blob/main/README.md'}, {'@id': 'https://github.com/inab/oeb-visualizations/blob/main/requirements.txt'}, {'@id': 'https://github.com/inab/oeb-visualizations/blob/main/docs/index.md'}], 'schema:dateModified': '2024-11-27T13:51:28Z', 'codemeta:readme': 'https://github.com/inab/oeb-visualizations/blob/main/README.md'}\n"
     ]
    }
   ],
   "source": [
    "print(jsonld_metadata)"
   ]
  },
  {
   "cell_type": "markdown",
   "metadata": {},
   "source": [
    "Lastly, the original JSON metadata can also be passed to the [/tools/cff](https://observatory.openebench.bsc.es/api/docs#/tools/tool_cff_tools_cff_post) Observatory API endpoint to generate a citation string in CFF format for adding to the GitHub repository."
   ]
  },
  {
   "cell_type": "code",
   "execution_count": 11,
   "metadata": {},
   "outputs": [],
   "source": [
    "cff_citation = observatory_api_client.get_cff_citation(metadata)"
   ]
  },
  {
   "cell_type": "code",
   "execution_count": 12,
   "metadata": {},
   "outputs": [
    {
     "name": "stdout",
     "output_type": "stream",
     "text": [
      "cff-version: 1.2.0\n",
      "message: If you use this software, please cite it as below.\n",
      "title: oeb-visualizations\n",
      "authors:\n",
      "- given-names: Eva Martin del Pico undefined\n",
      "  email: null\n",
      "- given-names: OEB FAIRsoftEvaluator undefined\n",
      "  email: null\n",
      "- given-names: Eva Martin del Pico undefined\n",
      "  email: null\n",
      "\n"
     ]
    }
   ],
   "source": [
    "print(cff_citation)"
   ]
  }
 ],
 "metadata": {
  "kernelspec": {
   "display_name": "Python 3 (ipykernel)",
   "language": "python",
   "name": "python3"
  },
  "language_info": {
   "codemirror_mode": {
    "name": "ipython",
    "version": 3
   },
   "file_extension": ".py",
   "mimetype": "text/x-python",
   "name": "python",
   "nbconvert_exporter": "python",
   "pygments_lexer": "ipython3",
   "version": "3.12.3"
  }
 },
 "nbformat": 4,
 "nbformat_minor": 4
}
