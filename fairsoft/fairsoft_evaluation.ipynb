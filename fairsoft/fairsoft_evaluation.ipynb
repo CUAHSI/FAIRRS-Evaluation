{
 "cells": [
  {
   "cell_type": "markdown",
   "metadata": {},
   "source": [
    "### Example execution of [FAIRsoft evaluator web app](https://openebench.bsc.es/observatory/Evaluation/) via FAIRsoft APIs\n",
    "\n",
    "This notebook is intended to provide an example and validation for using FAIRsoft APIs to extract, score and evaluate the FAIRness of research software metadata in a GitHub repository. There are other features of the FAIRsoft tool (e.g., metadata updating) that are not included in this notebook."
   ]
  },
  {
   "cell_type": "code",
   "execution_count": 1,
   "metadata": {},
   "outputs": [],
   "source": [
    "# import custom libraries\n",
    "import preprocess_utils\n",
    "# these libaries handle making API requests\n",
    "import extractor_client\n",
    "import metadata_client\n",
    "import evaluation_client"
   ]
  },
  {
   "cell_type": "markdown",
   "metadata": {},
   "source": [
    "A GitHub URL can be used as input to this process. Note that the [Metadata Extractor for FAIRsoft](https://github.com/settings/installations/54726444) GitHub App must be installed in the user workspace with read access to the input repository."
   ]
  },
  {
   "cell_type": "code",
   "execution_count": 2,
   "metadata": {},
   "outputs": [],
   "source": [
    "github_url = 'https://github.com/abnerbog/hydroshare'"
   ]
  },
  {
   "cell_type": "markdown",
   "metadata": {},
   "source": [
    "We can parse the repository and owner names for feeding into the [GitHub Metadata Extractor API](https://github.com/inab/github-metadata-api/tree/main)."
   ]
  },
  {
   "cell_type": "code",
   "execution_count": 3,
   "metadata": {},
   "outputs": [],
   "source": [
    "repo,owner = preprocess_utils.get_github_repo_and_owner(github_url)"
   ]
  },
  {
   "cell_type": "markdown",
   "metadata": {},
   "source": [
    "If the GitHub App is installed, an installation ID will be returned that can be used to extract repository metadata."
   ]
  },
  {
   "cell_type": "code",
   "execution_count": 4,
   "metadata": {},
   "outputs": [],
   "source": [
    "install_id = extractor_client.get_installation_id(repo,owner)"
   ]
  },
  {
   "cell_type": "code",
   "execution_count": 5,
   "metadata": {},
   "outputs": [],
   "source": [
    "metadata = metadata_client.get_repository_metadata(repo,owner,install_id)"
   ]
  },
  {
   "cell_type": "markdown",
   "metadata": {},
   "source": [
    "The JSON response can be parsed to return the metadata as a dictionary:"
   ]
  },
  {
   "cell_type": "code",
   "execution_count": 6,
   "metadata": {},
   "outputs": [
    {
     "name": "stdout",
     "output_type": "stream",
     "text": [
      "{'name': 'hydroshare', 'label': ['hydroshare'], 'description': [{'term': 'HydroShare is a collaborative website for better access to data and models in the hydrologic sciences. ', 'id': 0}], 'links': [], 'webpage': [{'term': 'https://www.hydroshare.org', 'id': 0}], 'isDisabled': False, 'isEmpty': False, 'isLocked': False, 'isPrivate': False, 'isTemplate': False, 'version': [], 'license': [{'term': {'name': 'BSD 3-Clause \"New\" or \"Revised\" License', 'url': 'http://choosealicense.com/licenses/bsd-3-clause/'}, 'id': 0}], 'repository': [{'term': 'https://github.com/abnerbog/hydroshare', 'id': 0}], 'topics': [], 'operations': [], 'authors': [{'term': {'name': 'Devin Cowan', 'type': 'person', 'email': 'devincowan@users.noreply.github.com', 'maintainer': False}, 'id': 0}, {'term': {'name': 'Devin Cowan', 'type': 'person', 'email': 'dcowan@cuahsi.org', 'maintainer': False}, 'id': 1}, {'term': {'name': 'Scott Black', 'type': 'person', 'email': 'sblack@cuahsi.org', 'maintainer': False}, 'id': 2}], 'bioschemas': False, 'contribPolicy': [], 'dependencies': [], 'documentation': [{'term': {'type': 'license', 'url': 'https://github.com/abnerbog/hydroshare/blob/main/LICENSE.txt'}, 'id': 0}, {'term': {'type': 'readme', 'url': 'https://github.com/abnerbog/hydroshare/blob/main/README.md'}, 'id': 1}, {'term': {'type': 'root', 'url': 'https://github.com/abnerbog/hydroshare/blob/main/quota-info.md'}, 'id': 2}, {'term': {'type': 'docs', 'url': 'https://github.com/abnerbog/hydroshare/blob/main/docs/How to use the Public folder.txt'}, 'id': 3}, {'term': {'type': 'docs', 'url': 'https://github.com/abnerbog/hydroshare/blob/main/docs/access-control.md'}, 'id': 4}], 'download': [], 'edam_operations': [], 'edam_topics': [], 'https': True, 'input': [], 'inst_instr': False, 'operational': False, 'os': [], 'output': [], 'publication': [], 'semantics': {'inputs': [], 'outputs': [], 'topics': [], 'operations': []}, 'source': ['github'], 'src': [], 'ssl': True, 'tags': [], 'test': [], 'type': ''}\n"
     ]
    }
   ],
   "source": [
    "print(metadata)"
   ]
  },
  {
   "cell_type": "markdown",
   "metadata": {},
   "source": [
    "The evaluation tool can be run by passing the metadata as a payload to the [Software Observatory API](https://github.com/inab/observatory-api)."
   ]
  },
  {
   "cell_type": "code",
   "execution_count": 7,
   "metadata": {
    "scrolled": true
   },
   "outputs": [],
   "source": [
    "results,logs = evaluation_client.get_fairsoft_results_and_logs(metadata)"
   ]
  },
  {
   "cell_type": "markdown",
   "metadata": {},
   "source": [
    "The results are parsed and reported below (note [this documentation](https://inab.github.io/FAIRsoft_indicators/) contains details on each of the indicators):"
   ]
  },
  {
   "cell_type": "code",
   "execution_count": 8,
   "metadata": {},
   "outputs": [
    {
     "name": "stdout",
     "output_type": "stream",
     "text": [
      "{'name': 'hydroshare', 'type': '', 'version': None, 'F': 0.72, 'F1': 0.8, 'F1_1': True, 'F1_2': False, 'F2': 0.6, 'F2_1': True, 'F2_2': False, 'F3': 0.7, 'F3_1': False, 'F3_2': True, 'F3_3': False, 'A': 0.0, 'A1': 0.0, 'A1_1': False, 'A1_2': False, 'A1_3': False, 'A1_4': False, 'A1_5': False, 'A2': 0.0, 'A2_1': False, 'A2_2': False, 'A3': 0.0, 'A3_1': False, 'A3_2': False, 'A3_3': False, 'A3_4': False, 'A3_5': False, 'I': 0.0, 'I1': 0.0, 'I1_1': False, 'I1_2': False, 'I1_3': False, 'I1_4': False, 'I1_5': False, 'I2': 0.0, 'I2_1': False, 'I2_2': False, 'I3': 0.0, 'I3_1': False, 'I3_2': False, 'I3_3': False, 'R': 0.5, 'R1': 0.0, 'R1_1': False, 'R1_2': False, 'R2': 1.0, 'R2_1': True, 'R2_2': True, 'R3': 1.0, 'R3_1': False, 'R3_2': True, 'R4': 0.0, 'R4_1': False, 'R4_2': False, 'R4_3': False}\n"
     ]
    }
   ],
   "source": [
    "print(results)"
   ]
  },
  {
   "cell_type": "markdown",
   "metadata": {},
   "source": [
    "Lastly, a pass/fail evaluation of the results can also be reported in the logs:"
   ]
  },
  {
   "cell_type": "code",
   "execution_count": 9,
   "metadata": {},
   "outputs": [
    {
     "name": "stdout",
     "output_type": "stream",
     "text": [
      "{'F1_1': ['The metadata is assigned a name to be identified.'], 'F1_2': ['❌ No version provided.', 'Result: FAILED'], 'F2_1': ['⚙️ Checking if any source provides structured metadata.', \"🔍 Sources provided: ['github']\", '⚙️ Comparing sources against: ', \"✅ Source 'github' provides structured metadata.\", 'Result: PASSED'], 'F2_2': ['⚙️ Verifying whether a topic or operation is part of a specific ontology or controlled vocabulary.', '🔍 No topics provided.', '🔍 No operations provided.', '❌ No topic or operation involves the use of ontologies or controlled vocabularies.', 'Result: FAILED'], 'F3_1': ['⚙️ Checking if any source matches software registries.', \"🔍 Sources provided: ['github']\", \" ⚙️ Comparing sources against: ['biotools', 'bioconda', 'bioconductor', 'toolshed', 'sourceforge']\", '❌ No source matches software registries. Checking registries ...', '⚙️ Checking if the specified software registry matches any of the known registries.', '🔍 No registries provided.', '⚙️ Comparing registries against: ', '❌ No registry matches software registries.', 'Result: FAILED'], 'F3_2': ['⚙️ Checking if any repository is an operational software repository.', '🔍 Repositories provided:', '- https://github.com/abnerbog/hydroshare', '✅ At least one valid repository found.', 'Result: PASSED'], 'F3_3': ['⚙️ Checking if any publication is a valid publication.', '🔍 No publications provided.', '❌ No publication.', 'Result: FAILED'], 'A1_1': ['This is not a web-based software. This indicator is not applicable. '], 'A1_2': ['⚙️ Checking if download links are operational', '🔍 No downloads provided.', '❌ Result: No download link provided.', 'Status: FAILED'], 'A1_3': ['⚙️ Checking if there are installation instructions and whether they are operational', '🔍 Documentation provided:', 'type: license, url: https://github.com/abnerbog/hydroshare/blob/main/LICENSE.txt, ', 'type: readme, url: https://github.com/abnerbog/hydroshare/blob/main/README.md, ', 'type: root, url: https://github.com/abnerbog/hydroshare/blob/main/quota-info.md, ', 'type: docs, url: https://github.com/abnerbog/hydroshare/blob/main/docs/How%20to%20use%20the%20Public%20folder.txt, ', 'type: docs, url: https://github.com/abnerbog/hydroshare/blob/main/docs/access-control.md, ', '❌ No installation instructions found in documentation. Checking sources ...', '⚙️ Checking if any of the sources provide installation instructions', \"🔍 Sources provided: ['github']\", \"Sources that have installation instructions: ['bioconda', 'bioconductor', 'galaxy', 'toolshed', 'bioconda_conda', 'bioconda_recipes']\", '❌ No source provides installation instructions.', 'Result: FAILED'], 'A1_4': ['⚙️ Verifying if test data is explicitly provided and if the provided URL is operational.', '🔍 No test data URLs provided.', '❌ No test data provided.', '❌ No operational test data found. Checking documentation ...', '⚙️ Checking if test data is present in documentation and its URL is operational', '🔍 Documentation provided:', 'type: license, url: https://github.com/abnerbog/hydroshare/blob/main/LICENSE.txt, ', 'type: readme, url: https://github.com/abnerbog/hydroshare/blob/main/README.md, ', 'type: root, url: https://github.com/abnerbog/hydroshare/blob/main/quota-info.md, ', 'type: docs, url: https://github.com/abnerbog/hydroshare/blob/main/docs/How%20to%20use%20the%20Public%20folder.txt, ', 'type: docs, url: https://github.com/abnerbog/hydroshare/blob/main/docs/access-control.md, ', '❌ No test data found in documentation or the provided URL is not operational.', 'Result: FAILED'], 'A1_5': ['⚙️ Checking if source code is provided and operational', '🔍 No source URLs provided.', '❌ Source code is not provided.', 'Result: FAILED'], 'A2_1': ['This indicator is currently not measured.'], 'A2_2': ['This indicator is currently not measured.'], 'A3_1': ['⚙️ Checking if registration is compulsory', '🔍 Received registration_not_mandatory: False', '❌ Registration seems compulsory.', 'Result: FAIL'], 'A3_2': ['⚙️  Verifying if at least one operating system is classified as free.', '🔍 No operating systems provided.', \"List of OS considered free: ['linux', 'freebsd', 'openbsd', 'netbsd', 'dragonfly bsd', 'reactos', 'haiku']\", '❌ No OS available.', 'Result: FAILED'], 'A3_3': ['⚙️ Checking if more than one OS is available', '🔍 No operating systems provided.', '❌ No OS available.', 'Result: FAIL'], 'A3_4': ['⚙️ Checking if any of the e-infrastructures is free e-infrastructures', '🔍 No e-infrastructures provided.', 'Free e-infrastructures considered: {E_INFRASTRUCTURES}', '❌ No e-infrastructures available.', '⚙️ Checking if any of the links reference free e-infrastructures', '🔍 Webpages provided:', '- https://www.hydroshare.org/', '❌ The following URL does not reference a free infrastructure: https://www.hydroshare.org/', '⚙️ Checking if any of the sources reference free e-infrastructures', \"🔍 Sources provided: ['github']\", '❌ No free e-infrastructures referenced in the source.', 'Result: FAILED'], 'A3_5': ['⚙️ Checking if more than one e-infrastructure is available', '🔍 No e-infrastructures provided.', '❌ No e-infrastructures available.', '⚙️ Checking if more than one e-infrastructure is referenced in the links and the link is operational', '🔍 Webpages provided:', '- https://www.hydroshare.org/', 'Number of e-infrastructures referenced in the links: 0', '❌ No operational. Checking sources ...', '⚙️ Checking if more than one e-infrastructure is referenced in the source', \"🔍 Sources provided: ['github']\", '❌ No e-infrastructures referenced in the source.', 'Result: FAILED'], 'I1_1': ['⚙️ Checking if any of the inputs or outputs use a standard data format.', '🔍 No inputs provided.', '🔍 No outputs provided.', '❌ No standard data formats found in inputs or outputs.', 'Result: FAIL'], 'I1_2': ['This is not a web-based software. This indicator is not applicable.'], 'I1_3': ['⚙️ Checking if any data format is verifiable.', '🔍 No inputs provided.', '🔍 No outputs provided.', 'Formats considered verifiable: https://observatory.openebench.bsc.es/api/lists/verifiable_formats', 'Formats found: set()', '❌ No verifiable data formats found.', 'Result: FAILED'], 'I1_4': ['⚙️ Checking if more than one input and output data formats are supported.', '🔍 No inputs provided.', '🔍 No outputs provided.', '❌ Less than one input or output data formats found.', 'Result: FAILED'], 'I1_5': ['This indicator is currently not measured.'], 'I2_1': ['⚙️ Checking if the instance type is one of the valid options (lib, rest, soap, or api).', '🔍 No type provided.', '❌ Instance type is not valid.', 'Result: FAILED'], 'I2_2': ['⚙️ Checking if at least one e-infrastructure is available', '🔍 Received e-infrastructures: []', '❌ No e-infrastructures provided. Checking links ...', '⚙️ Checking if at least one e-infrastructure is referenced in the links and the link is operational', 'Considered e-infrastructures: https://observatory.openebench.bsc.es/api/lists/e_infrastructures', '🔍 Webpages provided:', '- https://www.hydroshare.org/', '❌ No operational e-infrastructures referenced in the links. Checking sources ...', '⚙️ Checking if at least one e-infrastructure is referenced in the source', \"🔍 Sources provided: ['github']\", '❌ No e-infrastructures referenced in the source.', 'Result: FAILED'], 'I3_1': ['⚙️ Checking if dependencies are stated.', '🔍 No dependencies provided.', '❌ No dependencies found.', 'Result: FAILED'], 'I3_2': ['⚙️ Checking if dependencies are provided through dependencies-aware systems.', 'Checking registries, links, and sources.', \"🔍 Sources provided: ['github']\", '🔍 No registries provided.', '🔍 No links provided.', '❌ No dependencies-aware system identified.', 'Result: FAILED'], 'I3_3': ['⚙️ Checking if dependencies are provided through dependencies-aware systems.', 'Checking registries, links, and sources.', \"🔍 Sources provided: ['github']\", '🔍 No registries provided.', '🔍 No links provided.', '❌ No dependencies-aware system identified.', 'Result: FAILED'], 'R1_1': ['⚙️ Checking if any documentation is a usage guide and URL is operational.', '🔍 Documentation provided:', 'type: license, url: https://github.com/abnerbog/hydroshare/blob/main/LICENSE.txt, ', 'type: readme, url: https://github.com/abnerbog/hydroshare/blob/main/README.md, ', 'type: root, url: https://github.com/abnerbog/hydroshare/blob/main/quota-info.md, ', 'type: docs, url: https://github.com/abnerbog/hydroshare/blob/main/docs/How%20to%20use%20the%20Public%20folder.txt, ', 'type: docs, url: https://github.com/abnerbog/hydroshare/blob/main/docs/access-control.md, ', 'Checking documentation types against excluded types: https://observatory.openebench.bsc.es/api/lists/no_guide', '❌ The following documentation is not a usage guide: license -- https://github.com/abnerbog/hydroshare/blob/main/LICENSE.txt', '❌ The following documentation is a usage guide but the URL is not operational: readme -- https://github.com/abnerbog/hydroshare/blob/main/README.md', '❌ The following documentation is a usage guide but the URL is not operational: root -- https://github.com/abnerbog/hydroshare/blob/main/quota-info.md', '❌ The following documentation is a usage guide but the URL is not operational: docs -- https://github.com/abnerbog/hydroshare/blob/main/docs/How%20to%20use%20the%20Public%20folder.txt', '❌ The following documentation is a usage guide but the URL is not operational: docs -- https://github.com/abnerbog/hydroshare/blob/main/docs/access-control.md', '❌ No documentation is a usage guide.', 'Result: FAILED'], 'R1_2': ['This indicator is currently not measured.'], 'R2_1': ['⚙️ Checking if a valid license is explicitly stated.', '🔍 Licenses provided:', 'name: BSD 3-Clause \"New\" or \"Revised\" License, url: http://choosealicense.com/licenses/bsd-3-clause/, ', 'Checking license: BSD 3-Clause \"New\" or \"Revised\" License', '✅ A valid license is explicitly stated: BSD 3-Clause \"New\" or \"Revised\" License', '✅ At least one valid license is explicitly stated.', 'Result: PASSED'], 'R2_2': ['⚙️ Checking if a valid license is explicitly stated.', '🔍 Licenses provided:', 'name: BSD 3-Clause \"New\" or \"Revised\" License, url: http://choosealicense.com/licenses/bsd-3-clause/, ', 'Checking license: BSD 3-Clause \"New\" or \"Revised\" License', '✅ A valid license is explicitly stated: BSD 3-Clause \"New\" or \"Revised\" License', '✅ At least one valid license is explicitly stated.', 'Result: PASSED'], 'R3_1': ['⚙️ Checking if any documentation matches contribution policy types and the URL is operational.', '🔍 Documentation provided:', 'type: license, url: https://github.com/abnerbog/hydroshare/blob/main/LICENSE.txt, ', 'type: readme, url: https://github.com/abnerbog/hydroshare/blob/main/README.md, ', 'type: root, url: https://github.com/abnerbog/hydroshare/blob/main/quota-info.md, ', 'type: docs, url: https://github.com/abnerbog/hydroshare/blob/main/docs/How%20to%20use%20the%20Public%20folder.txt, ', 'type: docs, url: https://github.com/abnerbog/hydroshare/blob/main/docs/access-control.md, ', 'Checking against contribution policy types: https://observatory.openebench.bsc.es/api/lists/contribution_policy_types', '❌ A documentation does not match contribution policy types: license -- https://github.com/abnerbog/hydroshare/blob/main/LICENSE.txt', '❌ A documentation does not match contribution policy types: readme -- https://github.com/abnerbog/hydroshare/blob/main/README.md', '❌ A documentation does not match contribution policy types: root -- https://github.com/abnerbog/hydroshare/blob/main/quota-info.md', '❌ A documentation does not match contribution policy types: docs -- https://github.com/abnerbog/hydroshare/blob/main/docs/How%20to%20use%20the%20Public%20folder.txt', '❌ A documentation does not match contribution policy types: docs -- https://github.com/abnerbog/hydroshare/blob/main/docs/access-control.md', '❌ No documentation matches contribution policy types.', 'Result: FAILED'], 'R3_2': ['⚙️ Checking if any authors are stated.', '🔍 Authors provided:', 'name: Devin Cowan, type: person, email: devincowan@users.noreply.github.com, maintainer: False, ', 'name: Devin Cowan, type: person, email: dcowan@cuahsi.org, maintainer: False, ', 'name: Scott Black, type: person, email: sblack@cuahsi.org, maintainer: False, ', '✅ Authors are stated.', 'Result: PASSED'], 'R4_1': ['⚙️ Checking if version control is used.', '🔍 Received version control information: []', '❌ No version control is used.', 'Result: FAILED'], 'R4_2': ['⚙️ Checking if any documentation matches release policy types and the URL is operational.', '🔍 Documentation provided:', 'type: license, url: https://github.com/abnerbog/hydroshare/blob/main/LICENSE.txt, ', 'type: readme, url: https://github.com/abnerbog/hydroshare/blob/main/README.md, ', 'type: root, url: https://github.com/abnerbog/hydroshare/blob/main/quota-info.md, ', 'type: docs, url: https://github.com/abnerbog/hydroshare/blob/main/docs/How%20to%20use%20the%20Public%20folder.txt, ', 'type: docs, url: https://github.com/abnerbog/hydroshare/blob/main/docs/access-control.md, ', 'Checking against release policy types: https://observatory.openebench.bsc.es/api/lists/release_policy_types', '❌ A documentation does not match release policy types: license -- https://github.com/abnerbog/hydroshare/blob/main/LICENSE.txt', '❌ A documentation does not match release policy types: readme -- https://github.com/abnerbog/hydroshare/blob/main/README.md', '❌ A documentation does not match release policy types: root -- https://github.com/abnerbog/hydroshare/blob/main/quota-info.md', '❌ A documentation does not match release policy types: docs -- https://github.com/abnerbog/hydroshare/blob/main/docs/How%20to%20use%20the%20Public%20folder.txt', '❌ A documentation does not match release policy types: docs -- https://github.com/abnerbog/hydroshare/blob/main/docs/access-control.md', '❌ No documentation matches release policy types.', 'Result: FAILED'], 'R4_3': ['This indicator is currently not measured.']}\n"
     ]
    }
   ],
   "source": [
    "print(logs)"
   ]
  }
 ],
 "metadata": {
  "kernelspec": {
   "display_name": "Python 3 (ipykernel)",
   "language": "python",
   "name": "python3"
  },
  "language_info": {
   "codemirror_mode": {
    "name": "ipython",
    "version": 3
   },
   "file_extension": ".py",
   "mimetype": "text/x-python",
   "name": "python",
   "nbconvert_exporter": "python",
   "pygments_lexer": "ipython3",
   "version": "3.12.3"
  }
 },
 "nbformat": 4,
 "nbformat_minor": 4
}
